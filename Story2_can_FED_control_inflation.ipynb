{
 "cells": [
  {
   "cell_type": "code",
   "execution_count": 4,
   "id": "95c4f835",
   "metadata": {},
   "outputs": [],
   "source": [
    "import requests\n",
    "import json\n",
    "import prettytable\n",
    "import pandas as pd\n",
    "import seaborn as sns\n",
    "import matplotlib.pyplot as plt\n",
    "import plotly.express as px\n",
    "import plotly.io as pio\n",
    "from plotly.subplots import make_subplots\n",
    "import plotly.graph_objects as go\n",
    "import datetime\n",
    "from IPython.display import Image\n",
    "from functools import reduce\n"
   ]
  },
  {
   "cell_type": "markdown",
   "id": "73410b8a",
   "metadata": {},
   "source": [
    "### Project 2 topic: \n",
    "\n",
    "#### The Federal Reserve's mandate from Congress is to control inflation and to maintain low unemployment. These seem to be contradictory objectives.\n",
    "\n",
    "For this story you will need to source the following data for the last 25 years;\n",
    "\n",
    "The Consumer Price Index (CPI) (Bureau of Labor Statistics)\n",
    "\n",
    "The FED Funds Rate (FRED) (Federal Reserve Board)\n",
    "\n",
    "Unemployment Rate  (Bureau of Labor Statistics)\n",
    "Your Data Visualizations should be designed to answer the question \"Has the FED been able to fulfill the mandate given to it by Congress?\""
   ]
  },
  {
   "cell_type": "markdown",
   "id": "6619a88d",
   "metadata": {},
   "source": [
    "### API requests to retrieve data from BLS\n",
    "System only allows API retrieval up to 10 years of data.\n",
    "\n",
    "#### To obtain the **CPI** and the **unemployment rate** from 1999-2024\n",
    "#### We can split the API requests into 3 requests through a loop:"
   ]
  },
  {
   "cell_type": "code",
   "execution_count": 5,
   "id": "a1223440",
   "metadata": {},
   "outputs": [],
   "source": [
    "headers = {'Content-type': 'application/json'}\n",
    "year_ranges = [(1998, 2008), (2009, 2018), (2019, 2024)]\n",
    "series_ids = ['CUUR0000SA0L1E', 'LNS14000000']\n",
    "\n",
    "all_data = []\n",
    "\n",
    "for i, (start, end) in enumerate(year_ranges, start=1):\n",
    "    data = json.dumps({\n",
    "        'seriesid': series_ids,\n",
    "        'startyear': str(start),\n",
    "        'endyear': str(end)\n",
    "    })\n",
    "\n",
    "    #requests:\n",
    "    p = requests.post('https://api.bls.gov/publicAPI/v2/timeseries/data/', data=data, headers=headers)\n",
    "    json_data = p.json()\n",
    "    \n",
    "    for series in json_data['Results']['series']:\n",
    "        seriesId = series['seriesID']\n",
    "        for item in series['data']:\n",
    "            year = item['year']\n",
    "            period = item['period']\n",
    "            value = item['value']\n",
    "            footnotes= \",\".join(\n",
    "                [f['text'] for f in item['footnotes'] if f]\n",
    "            )\n",
    "            if 'M01' <= period <= 'M12':\n",
    "                all_data.append({\n",
    "                    'series_id': seriesId,\n",
    "                    'year': year,\n",
    "                    'period': period,\n",
    "                    'value': value,\n",
    "                    'footnotes': footnotes\n",
    "                })\n",
    "\n",
    "#Convert to pandas:\n",
    "df = pd.DataFrame(all_data)\n",
    "\n",
    "df.to_csv('bls.csv', index = False)\n",
    "   "
   ]
  },
  {
   "cell_type": "markdown",
   "id": "e770eee1",
   "metadata": {},
   "source": [
    "### To obtain the FRED rate through the API:"
   ]
  },
  {
   "cell_type": "code",
   "execution_count": 6,
   "id": "15528d5d",
   "metadata": {},
   "outputs": [
    {
     "data": {
      "text/html": [
       "<div>\n",
       "<style scoped>\n",
       "    .dataframe tbody tr th:only-of-type {\n",
       "        vertical-align: middle;\n",
       "    }\n",
       "\n",
       "    .dataframe tbody tr th {\n",
       "        vertical-align: top;\n",
       "    }\n",
       "\n",
       "    .dataframe thead th {\n",
       "        text-align: right;\n",
       "    }\n",
       "</style>\n",
       "<table border=\"1\" class=\"dataframe\">\n",
       "  <thead>\n",
       "    <tr style=\"text-align: right;\">\n",
       "      <th></th>\n",
       "      <th>date</th>\n",
       "      <th>FED_rate</th>\n",
       "    </tr>\n",
       "  </thead>\n",
       "  <tbody>\n",
       "    <tr>\n",
       "      <th>0</th>\n",
       "      <td>1998-01-01</td>\n",
       "      <td>5.56</td>\n",
       "    </tr>\n",
       "    <tr>\n",
       "      <th>1</th>\n",
       "      <td>1998-02-01</td>\n",
       "      <td>5.51</td>\n",
       "    </tr>\n",
       "    <tr>\n",
       "      <th>2</th>\n",
       "      <td>1998-03-01</td>\n",
       "      <td>5.49</td>\n",
       "    </tr>\n",
       "    <tr>\n",
       "      <th>3</th>\n",
       "      <td>1998-04-01</td>\n",
       "      <td>5.45</td>\n",
       "    </tr>\n",
       "    <tr>\n",
       "      <th>4</th>\n",
       "      <td>1998-05-01</td>\n",
       "      <td>5.49</td>\n",
       "    </tr>\n",
       "  </tbody>\n",
       "</table>\n",
       "</div>"
      ],
      "text/plain": [
       "         date FED_rate\n",
       "0  1998-01-01     5.56\n",
       "1  1998-02-01     5.51\n",
       "2  1998-03-01     5.49\n",
       "3  1998-04-01     5.45\n",
       "4  1998-05-01     5.49"
      ]
     },
     "execution_count": 6,
     "metadata": {},
     "output_type": "execute_result"
    }
   ],
   "source": [
    "import requests\n",
    "import pandas as pd\n",
    "key = 'ffe6dec1e433657d45d1cdd6362aa518'\n",
    "\n",
    "url = 'https://api.stlouisfed.org/fred/series/observations?'\n",
    "\n",
    "params = {\n",
    "    'series_id': 'FEDFUNDS',\n",
    "    'file_type': 'json',\n",
    "    'api_key': key,\n",
    "    'observation_start': '1998-01-01',\n",
    "    'observation_end': '2024-12-01',\n",
    "    'frequency': 'm'\n",
    "}\n",
    "\n",
    "response = requests.get(url, params=params)\n",
    "data = response.json()\n",
    "\n",
    "#Import to pandas dataframe:\n",
    "FED_df = pd.DataFrame(data['observations'])\n",
    "FED_df = FED_df[['date', 'value']]\n",
    "FED_df.rename(columns={'value': 'FED_rate'}, inplace=True)\n",
    "FED_df.head()"
   ]
  },
  {
   "cell_type": "markdown",
   "id": "04cf4227",
   "metadata": {},
   "source": [
    "### Data cleanings:"
   ]
  },
  {
   "cell_type": "code",
   "execution_count": 7,
   "id": "9fbd91cb",
   "metadata": {},
   "outputs": [],
   "source": [
    "#To separate the CPI data from the unemployment data:\n",
    "df_cpi = df[df['series_id'].str.startswith('CUU')]\n",
    "\n",
    "df_unemply = df[df['series_id'].str.startswith('LNS')]\n",
    "\n",
    "#Convert the months into months only:\n",
    "df_cpi = df_cpi[['year', 'period', 'value']]\n",
    "df_unemply = df_unemply[['year', 'period', 'value']]\n",
    "\n",
    "#Rename columns:\n",
    "df_cpi.rename(columns={'value':'cpi', 'period':'month'}, inplace = True)\n",
    "df_unemply.rename(columns={'value':'unemply_rate', 'period':'month'}, inplace = True)\n",
    "\n",
    "#Remove the 'M' in the month column:\n",
    "df_cpi['month'] = df_cpi['month'].str.replace('M', '')\n",
    "df_unemply['month'] = df_unemply['month'].str.replace('M', '')\n",
    "\n",
    "#Add a day column then combine and convert the date column:\n",
    "df_cpi['day'] = 1\n",
    "df_unemply['day'] = 1\n",
    "\n",
    "df_cpi['date'] = pd.to_datetime(df_cpi[['year', 'month', 'day']])\n",
    "df_unemply['date'] =  pd.to_datetime(df_unemply[['year', 'month', 'day']])\n",
    "\n",
    "df_cpi = df_cpi[['date', 'cpi']]\n",
    "df_unemply = df_unemply[['date', 'unemply_rate']]\n",
    "\n",
    "#use only the date and value columns and format the date column into date format:\n",
    "FED_df['date'] = pd.to_datetime(FED_df['date'])\n",
    "FED_df.set_index('date', inplace=True)\n",
    "\n",
    "#Covert rate column to float:\n",
    "FED_df['FED_rate'] = pd.to_numeric(FED_df['FED_rate'], errors = 'coerce')\n",
    "\n",
    "#Merge the three files into a tidy format:\n",
    "dfs = [df_cpi, df_unemply, FED_df]\n",
    "df_final = reduce(lambda left, right: pd.merge(left, right, on='date'), dfs)\n",
    "\n",
    "#Set index as date:\n",
    "df_final = df_final.sort_values(by = 'date')\n",
    "df_final['cpi'] = df_final['cpi'].astype('float')\n",
    "df_final['unemply_rate'] = df_final['unemply_rate'].astype('float')\n",
    "#Calculate the yearly CPI changes:\n",
    "df_final['yearly_cpi_changes'] = ((df_final['cpi'] - df_final['cpi'].shift(12)) / df_final['cpi'].shift(12) * 100)\n",
    "\n",
    "\n",
    "df_final.to_csv('story2_final.csv')\n"
   ]
  },
  {
   "cell_type": "markdown",
   "id": "7f2d49d2",
   "metadata": {},
   "source": [
    "### Plot 1:"
   ]
  },
  {
   "cell_type": "code",
   "execution_count": 8,
   "id": "fba68cdd",
   "metadata": {},
   "outputs": [
    {
     "data": {
      "application/vnd.plotly.v1+json": {
       "config": {
        "plotlyServerURL": "https://plot.ly"
       },
       "data": [
        {
         "mode": "lines",
         "name": "Percentage of CPI Yearly Changes",
         "type": "scatter",
         "x": [
          "1999-01-01T00:00:00",
          "1999-02-01T00:00:00",
          "1999-03-01T00:00:00",
          "1999-04-01T00:00:00",
          "1999-05-01T00:00:00",
          "1999-06-01T00:00:00",
          "1999-07-01T00:00:00",
          "1999-08-01T00:00:00",
          "1999-09-01T00:00:00",
          "1999-10-01T00:00:00",
          "1999-11-01T00:00:00",
          "1999-12-01T00:00:00",
          "2000-01-01T00:00:00",
          "2000-02-01T00:00:00",
          "2000-03-01T00:00:00",
          "2000-04-01T00:00:00",
          "2000-05-01T00:00:00",
          "2000-06-01T00:00:00",
          "2000-07-01T00:00:00",
          "2000-08-01T00:00:00",
          "2000-09-01T00:00:00",
          "2000-10-01T00:00:00",
          "2000-11-01T00:00:00",
          "2000-12-01T00:00:00",
          "2001-01-01T00:00:00",
          "2001-02-01T00:00:00",
          "2001-03-01T00:00:00",
          "2001-04-01T00:00:00",
          "2001-05-01T00:00:00",
          "2001-06-01T00:00:00",
          "2001-07-01T00:00:00",
          "2001-08-01T00:00:00",
          "2001-09-01T00:00:00",
          "2001-10-01T00:00:00",
          "2001-11-01T00:00:00",
          "2001-12-01T00:00:00",
          "2002-01-01T00:00:00",
          "2002-02-01T00:00:00",
          "2002-03-01T00:00:00",
          "2002-04-01T00:00:00",
          "2002-05-01T00:00:00",
          "2002-06-01T00:00:00",
          "2002-07-01T00:00:00",
          "2002-08-01T00:00:00",
          "2002-09-01T00:00:00",
          "2002-10-01T00:00:00",
          "2002-11-01T00:00:00",
          "2002-12-01T00:00:00",
          "2003-01-01T00:00:00",
          "2003-02-01T00:00:00",
          "2003-03-01T00:00:00",
          "2003-04-01T00:00:00",
          "2003-05-01T00:00:00",
          "2003-06-01T00:00:00",
          "2003-07-01T00:00:00",
          "2003-08-01T00:00:00",
          "2003-09-01T00:00:00",
          "2003-10-01T00:00:00",
          "2003-11-01T00:00:00",
          "2003-12-01T00:00:00",
          "2004-01-01T00:00:00",
          "2004-02-01T00:00:00",
          "2004-03-01T00:00:00",
          "2004-04-01T00:00:00",
          "2004-05-01T00:00:00",
          "2004-06-01T00:00:00",
          "2004-07-01T00:00:00",
          "2004-08-01T00:00:00",
          "2004-09-01T00:00:00",
          "2004-10-01T00:00:00",
          "2004-11-01T00:00:00",
          "2004-12-01T00:00:00",
          "2005-01-01T00:00:00",
          "2005-02-01T00:00:00",
          "2005-03-01T00:00:00",
          "2005-04-01T00:00:00",
          "2005-05-01T00:00:00",
          "2005-06-01T00:00:00",
          "2005-07-01T00:00:00",
          "2005-08-01T00:00:00",
          "2005-09-01T00:00:00",
          "2005-10-01T00:00:00",
          "2005-11-01T00:00:00",
          "2005-12-01T00:00:00",
          "2006-01-01T00:00:00",
          "2006-02-01T00:00:00",
          "2006-03-01T00:00:00",
          "2006-04-01T00:00:00",
          "2006-05-01T00:00:00",
          "2006-06-01T00:00:00",
          "2006-07-01T00:00:00",
          "2006-08-01T00:00:00",
          "2006-09-01T00:00:00",
          "2006-10-01T00:00:00",
          "2006-11-01T00:00:00",
          "2006-12-01T00:00:00",
          "2007-01-01T00:00:00",
          "2007-02-01T00:00:00",
          "2007-03-01T00:00:00",
          "2007-04-01T00:00:00",
          "2007-05-01T00:00:00",
          "2007-06-01T00:00:00",
          "2007-07-01T00:00:00",
          "2007-08-01T00:00:00",
          "2007-09-01T00:00:00",
          "2007-10-01T00:00:00",
          "2007-11-01T00:00:00",
          "2007-12-01T00:00:00",
          "2009-01-01T00:00:00",
          "2009-02-01T00:00:00",
          "2009-03-01T00:00:00",
          "2009-04-01T00:00:00",
          "2009-05-01T00:00:00",
          "2009-06-01T00:00:00",
          "2009-07-01T00:00:00",
          "2009-08-01T00:00:00",
          "2009-09-01T00:00:00",
          "2009-10-01T00:00:00",
          "2009-11-01T00:00:00",
          "2009-12-01T00:00:00",
          "2010-01-01T00:00:00",
          "2010-02-01T00:00:00",
          "2010-03-01T00:00:00",
          "2010-04-01T00:00:00",
          "2010-05-01T00:00:00",
          "2010-06-01T00:00:00",
          "2010-07-01T00:00:00",
          "2010-08-01T00:00:00",
          "2010-09-01T00:00:00",
          "2010-10-01T00:00:00",
          "2010-11-01T00:00:00",
          "2010-12-01T00:00:00",
          "2011-01-01T00:00:00",
          "2011-02-01T00:00:00",
          "2011-03-01T00:00:00",
          "2011-04-01T00:00:00",
          "2011-05-01T00:00:00",
          "2011-06-01T00:00:00",
          "2011-07-01T00:00:00",
          "2011-08-01T00:00:00",
          "2011-09-01T00:00:00",
          "2011-10-01T00:00:00",
          "2011-11-01T00:00:00",
          "2011-12-01T00:00:00",
          "2012-01-01T00:00:00",
          "2012-02-01T00:00:00",
          "2012-03-01T00:00:00",
          "2012-04-01T00:00:00",
          "2012-05-01T00:00:00",
          "2012-06-01T00:00:00",
          "2012-07-01T00:00:00",
          "2012-08-01T00:00:00",
          "2012-09-01T00:00:00",
          "2012-10-01T00:00:00",
          "2012-11-01T00:00:00",
          "2012-12-01T00:00:00",
          "2013-01-01T00:00:00",
          "2013-02-01T00:00:00",
          "2013-03-01T00:00:00",
          "2013-04-01T00:00:00",
          "2013-05-01T00:00:00",
          "2013-06-01T00:00:00",
          "2013-07-01T00:00:00",
          "2013-08-01T00:00:00",
          "2013-09-01T00:00:00",
          "2013-10-01T00:00:00",
          "2013-11-01T00:00:00",
          "2013-12-01T00:00:00",
          "2014-01-01T00:00:00",
          "2014-02-01T00:00:00",
          "2014-03-01T00:00:00",
          "2014-04-01T00:00:00",
          "2014-05-01T00:00:00",
          "2014-06-01T00:00:00",
          "2014-07-01T00:00:00",
          "2014-08-01T00:00:00",
          "2014-09-01T00:00:00",
          "2014-10-01T00:00:00",
          "2014-11-01T00:00:00",
          "2014-12-01T00:00:00",
          "2015-01-01T00:00:00",
          "2015-02-01T00:00:00",
          "2015-03-01T00:00:00",
          "2015-04-01T00:00:00",
          "2015-05-01T00:00:00",
          "2015-06-01T00:00:00",
          "2015-07-01T00:00:00",
          "2015-08-01T00:00:00",
          "2015-09-01T00:00:00",
          "2015-10-01T00:00:00",
          "2015-11-01T00:00:00",
          "2015-12-01T00:00:00",
          "2016-01-01T00:00:00",
          "2016-02-01T00:00:00",
          "2016-03-01T00:00:00",
          "2016-04-01T00:00:00",
          "2016-05-01T00:00:00",
          "2016-06-01T00:00:00",
          "2016-07-01T00:00:00",
          "2016-08-01T00:00:00",
          "2016-09-01T00:00:00",
          "2016-10-01T00:00:00",
          "2016-11-01T00:00:00",
          "2016-12-01T00:00:00",
          "2017-01-01T00:00:00",
          "2017-02-01T00:00:00",
          "2017-03-01T00:00:00",
          "2017-04-01T00:00:00",
          "2017-05-01T00:00:00",
          "2017-06-01T00:00:00",
          "2017-07-01T00:00:00",
          "2017-08-01T00:00:00",
          "2017-09-01T00:00:00",
          "2017-10-01T00:00:00",
          "2017-11-01T00:00:00",
          "2017-12-01T00:00:00",
          "2018-01-01T00:00:00",
          "2018-02-01T00:00:00",
          "2018-03-01T00:00:00",
          "2018-04-01T00:00:00",
          "2018-05-01T00:00:00",
          "2018-06-01T00:00:00",
          "2018-07-01T00:00:00",
          "2018-08-01T00:00:00",
          "2018-09-01T00:00:00",
          "2018-10-01T00:00:00",
          "2018-11-01T00:00:00",
          "2018-12-01T00:00:00",
          "2019-01-01T00:00:00",
          "2019-02-01T00:00:00",
          "2019-03-01T00:00:00",
          "2019-04-01T00:00:00",
          "2019-05-01T00:00:00",
          "2019-06-01T00:00:00",
          "2019-07-01T00:00:00",
          "2019-08-01T00:00:00",
          "2019-09-01T00:00:00",
          "2019-10-01T00:00:00",
          "2019-11-01T00:00:00",
          "2019-12-01T00:00:00",
          "2020-01-01T00:00:00",
          "2020-02-01T00:00:00",
          "2020-03-01T00:00:00",
          "2020-04-01T00:00:00",
          "2020-05-01T00:00:00",
          "2020-06-01T00:00:00",
          "2020-07-01T00:00:00",
          "2020-08-01T00:00:00",
          "2020-09-01T00:00:00",
          "2020-10-01T00:00:00",
          "2020-11-01T00:00:00",
          "2020-12-01T00:00:00",
          "2021-01-01T00:00:00",
          "2021-02-01T00:00:00",
          "2021-03-01T00:00:00",
          "2021-04-01T00:00:00",
          "2021-05-01T00:00:00",
          "2021-06-01T00:00:00",
          "2021-07-01T00:00:00",
          "2021-08-01T00:00:00",
          "2021-09-01T00:00:00",
          "2021-10-01T00:00:00",
          "2021-11-01T00:00:00",
          "2021-12-01T00:00:00",
          "2022-01-01T00:00:00",
          "2022-02-01T00:00:00",
          "2022-03-01T00:00:00",
          "2022-04-01T00:00:00",
          "2022-05-01T00:00:00",
          "2022-06-01T00:00:00",
          "2022-07-01T00:00:00",
          "2022-08-01T00:00:00",
          "2022-09-01T00:00:00",
          "2022-10-01T00:00:00",
          "2022-11-01T00:00:00",
          "2022-12-01T00:00:00",
          "2023-01-01T00:00:00",
          "2023-02-01T00:00:00",
          "2023-03-01T00:00:00",
          "2023-04-01T00:00:00",
          "2023-05-01T00:00:00",
          "2023-06-01T00:00:00",
          "2023-07-01T00:00:00",
          "2023-08-01T00:00:00",
          "2023-09-01T00:00:00",
          "2023-10-01T00:00:00",
          "2023-11-01T00:00:00",
          "2023-12-01T00:00:00",
          "2024-01-01T00:00:00",
          "2024-02-01T00:00:00",
          "2024-03-01T00:00:00",
          "2024-04-01T00:00:00",
          "2024-05-01T00:00:00",
          "2024-06-01T00:00:00",
          "2024-07-01T00:00:00",
          "2024-08-01T00:00:00",
          "2024-09-01T00:00:00",
          "2024-10-01T00:00:00",
          "2024-11-01T00:00:00",
          "2024-12-01T00:00:00"
         ],
         "xaxis": "x",
         "y": {
          "bdata": "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",
          "dtype": "f8"
         },
         "yaxis": "y"
        },
        {
         "mode": "lines",
         "name": "FRED Interest Rate",
         "type": "scatter",
         "x": [
          "1999-01-01T00:00:00",
          "1999-02-01T00:00:00",
          "1999-03-01T00:00:00",
          "1999-04-01T00:00:00",
          "1999-05-01T00:00:00",
          "1999-06-01T00:00:00",
          "1999-07-01T00:00:00",
          "1999-08-01T00:00:00",
          "1999-09-01T00:00:00",
          "1999-10-01T00:00:00",
          "1999-11-01T00:00:00",
          "1999-12-01T00:00:00",
          "2000-01-01T00:00:00",
          "2000-02-01T00:00:00",
          "2000-03-01T00:00:00",
          "2000-04-01T00:00:00",
          "2000-05-01T00:00:00",
          "2000-06-01T00:00:00",
          "2000-07-01T00:00:00",
          "2000-08-01T00:00:00",
          "2000-09-01T00:00:00",
          "2000-10-01T00:00:00",
          "2000-11-01T00:00:00",
          "2000-12-01T00:00:00",
          "2001-01-01T00:00:00",
          "2001-02-01T00:00:00",
          "2001-03-01T00:00:00",
          "2001-04-01T00:00:00",
          "2001-05-01T00:00:00",
          "2001-06-01T00:00:00",
          "2001-07-01T00:00:00",
          "2001-08-01T00:00:00",
          "2001-09-01T00:00:00",
          "2001-10-01T00:00:00",
          "2001-11-01T00:00:00",
          "2001-12-01T00:00:00",
          "2002-01-01T00:00:00",
          "2002-02-01T00:00:00",
          "2002-03-01T00:00:00",
          "2002-04-01T00:00:00",
          "2002-05-01T00:00:00",
          "2002-06-01T00:00:00",
          "2002-07-01T00:00:00",
          "2002-08-01T00:00:00",
          "2002-09-01T00:00:00",
          "2002-10-01T00:00:00",
          "2002-11-01T00:00:00",
          "2002-12-01T00:00:00",
          "2003-01-01T00:00:00",
          "2003-02-01T00:00:00",
          "2003-03-01T00:00:00",
          "2003-04-01T00:00:00",
          "2003-05-01T00:00:00",
          "2003-06-01T00:00:00",
          "2003-07-01T00:00:00",
          "2003-08-01T00:00:00",
          "2003-09-01T00:00:00",
          "2003-10-01T00:00:00",
          "2003-11-01T00:00:00",
          "2003-12-01T00:00:00",
          "2004-01-01T00:00:00",
          "2004-02-01T00:00:00",
          "2004-03-01T00:00:00",
          "2004-04-01T00:00:00",
          "2004-05-01T00:00:00",
          "2004-06-01T00:00:00",
          "2004-07-01T00:00:00",
          "2004-08-01T00:00:00",
          "2004-09-01T00:00:00",
          "2004-10-01T00:00:00",
          "2004-11-01T00:00:00",
          "2004-12-01T00:00:00",
          "2005-01-01T00:00:00",
          "2005-02-01T00:00:00",
          "2005-03-01T00:00:00",
          "2005-04-01T00:00:00",
          "2005-05-01T00:00:00",
          "2005-06-01T00:00:00",
          "2005-07-01T00:00:00",
          "2005-08-01T00:00:00",
          "2005-09-01T00:00:00",
          "2005-10-01T00:00:00",
          "2005-11-01T00:00:00",
          "2005-12-01T00:00:00",
          "2006-01-01T00:00:00",
          "2006-02-01T00:00:00",
          "2006-03-01T00:00:00",
          "2006-04-01T00:00:00",
          "2006-05-01T00:00:00",
          "2006-06-01T00:00:00",
          "2006-07-01T00:00:00",
          "2006-08-01T00:00:00",
          "2006-09-01T00:00:00",
          "2006-10-01T00:00:00",
          "2006-11-01T00:00:00",
          "2006-12-01T00:00:00",
          "2007-01-01T00:00:00",
          "2007-02-01T00:00:00",
          "2007-03-01T00:00:00",
          "2007-04-01T00:00:00",
          "2007-05-01T00:00:00",
          "2007-06-01T00:00:00",
          "2007-07-01T00:00:00",
          "2007-08-01T00:00:00",
          "2007-09-01T00:00:00",
          "2007-10-01T00:00:00",
          "2007-11-01T00:00:00",
          "2007-12-01T00:00:00",
          "2009-01-01T00:00:00",
          "2009-02-01T00:00:00",
          "2009-03-01T00:00:00",
          "2009-04-01T00:00:00",
          "2009-05-01T00:00:00",
          "2009-06-01T00:00:00",
          "2009-07-01T00:00:00",
          "2009-08-01T00:00:00",
          "2009-09-01T00:00:00",
          "2009-10-01T00:00:00",
          "2009-11-01T00:00:00",
          "2009-12-01T00:00:00",
          "2010-01-01T00:00:00",
          "2010-02-01T00:00:00",
          "2010-03-01T00:00:00",
          "2010-04-01T00:00:00",
          "2010-05-01T00:00:00",
          "2010-06-01T00:00:00",
          "2010-07-01T00:00:00",
          "2010-08-01T00:00:00",
          "2010-09-01T00:00:00",
          "2010-10-01T00:00:00",
          "2010-11-01T00:00:00",
          "2010-12-01T00:00:00",
          "2011-01-01T00:00:00",
          "2011-02-01T00:00:00",
          "2011-03-01T00:00:00",
          "2011-04-01T00:00:00",
          "2011-05-01T00:00:00",
          "2011-06-01T00:00:00",
          "2011-07-01T00:00:00",
          "2011-08-01T00:00:00",
          "2011-09-01T00:00:00",
          "2011-10-01T00:00:00",
          "2011-11-01T00:00:00",
          "2011-12-01T00:00:00",
          "2012-01-01T00:00:00",
          "2012-02-01T00:00:00",
          "2012-03-01T00:00:00",
          "2012-04-01T00:00:00",
          "2012-05-01T00:00:00",
          "2012-06-01T00:00:00",
          "2012-07-01T00:00:00",
          "2012-08-01T00:00:00",
          "2012-09-01T00:00:00",
          "2012-10-01T00:00:00",
          "2012-11-01T00:00:00",
          "2012-12-01T00:00:00",
          "2013-01-01T00:00:00",
          "2013-02-01T00:00:00",
          "2013-03-01T00:00:00",
          "2013-04-01T00:00:00",
          "2013-05-01T00:00:00",
          "2013-06-01T00:00:00",
          "2013-07-01T00:00:00",
          "2013-08-01T00:00:00",
          "2013-09-01T00:00:00",
          "2013-10-01T00:00:00",
          "2013-11-01T00:00:00",
          "2013-12-01T00:00:00",
          "2014-01-01T00:00:00",
          "2014-02-01T00:00:00",
          "2014-03-01T00:00:00",
          "2014-04-01T00:00:00",
          "2014-05-01T00:00:00",
          "2014-06-01T00:00:00",
          "2014-07-01T00:00:00",
          "2014-08-01T00:00:00",
          "2014-09-01T00:00:00",
          "2014-10-01T00:00:00",
          "2014-11-01T00:00:00",
          "2014-12-01T00:00:00",
          "2015-01-01T00:00:00",
          "2015-02-01T00:00:00",
          "2015-03-01T00:00:00",
          "2015-04-01T00:00:00",
          "2015-05-01T00:00:00",
          "2015-06-01T00:00:00",
          "2015-07-01T00:00:00",
          "2015-08-01T00:00:00",
          "2015-09-01T00:00:00",
          "2015-10-01T00:00:00",
          "2015-11-01T00:00:00",
          "2015-12-01T00:00:00",
          "2016-01-01T00:00:00",
          "2016-02-01T00:00:00",
          "2016-03-01T00:00:00",
          "2016-04-01T00:00:00",
          "2016-05-01T00:00:00",
          "2016-06-01T00:00:00",
          "2016-07-01T00:00:00",
          "2016-08-01T00:00:00",
          "2016-09-01T00:00:00",
          "2016-10-01T00:00:00",
          "2016-11-01T00:00:00",
          "2016-12-01T00:00:00",
          "2017-01-01T00:00:00",
          "2017-02-01T00:00:00",
          "2017-03-01T00:00:00",
          "2017-04-01T00:00:00",
          "2017-05-01T00:00:00",
          "2017-06-01T00:00:00",
          "2017-07-01T00:00:00",
          "2017-08-01T00:00:00",
          "2017-09-01T00:00:00",
          "2017-10-01T00:00:00",
          "2017-11-01T00:00:00",
          "2017-12-01T00:00:00",
          "2018-01-01T00:00:00",
          "2018-02-01T00:00:00",
          "2018-03-01T00:00:00",
          "2018-04-01T00:00:00",
          "2018-05-01T00:00:00",
          "2018-06-01T00:00:00",
          "2018-07-01T00:00:00",
          "2018-08-01T00:00:00",
          "2018-09-01T00:00:00",
          "2018-10-01T00:00:00",
          "2018-11-01T00:00:00",
          "2018-12-01T00:00:00",
          "2019-01-01T00:00:00",
          "2019-02-01T00:00:00",
          "2019-03-01T00:00:00",
          "2019-04-01T00:00:00",
          "2019-05-01T00:00:00",
          "2019-06-01T00:00:00",
          "2019-07-01T00:00:00",
          "2019-08-01T00:00:00",
          "2019-09-01T00:00:00",
          "2019-10-01T00:00:00",
          "2019-11-01T00:00:00",
          "2019-12-01T00:00:00",
          "2020-01-01T00:00:00",
          "2020-02-01T00:00:00",
          "2020-03-01T00:00:00",
          "2020-04-01T00:00:00",
          "2020-05-01T00:00:00",
          "2020-06-01T00:00:00",
          "2020-07-01T00:00:00",
          "2020-08-01T00:00:00",
          "2020-09-01T00:00:00",
          "2020-10-01T00:00:00",
          "2020-11-01T00:00:00",
          "2020-12-01T00:00:00",
          "2021-01-01T00:00:00",
          "2021-02-01T00:00:00",
          "2021-03-01T00:00:00",
          "2021-04-01T00:00:00",
          "2021-05-01T00:00:00",
          "2021-06-01T00:00:00",
          "2021-07-01T00:00:00",
          "2021-08-01T00:00:00",
          "2021-09-01T00:00:00",
          "2021-10-01T00:00:00",
          "2021-11-01T00:00:00",
          "2021-12-01T00:00:00",
          "2022-01-01T00:00:00",
          "2022-02-01T00:00:00",
          "2022-03-01T00:00:00",
          "2022-04-01T00:00:00",
          "2022-05-01T00:00:00",
          "2022-06-01T00:00:00",
          "2022-07-01T00:00:00",
          "2022-08-01T00:00:00",
          "2022-09-01T00:00:00",
          "2022-10-01T00:00:00",
          "2022-11-01T00:00:00",
          "2022-12-01T00:00:00",
          "2023-01-01T00:00:00",
          "2023-02-01T00:00:00",
          "2023-03-01T00:00:00",
          "2023-04-01T00:00:00",
          "2023-05-01T00:00:00",
          "2023-06-01T00:00:00",
          "2023-07-01T00:00:00",
          "2023-08-01T00:00:00",
          "2023-09-01T00:00:00",
          "2023-10-01T00:00:00",
          "2023-11-01T00:00:00",
          "2023-12-01T00:00:00",
          "2024-01-01T00:00:00",
          "2024-02-01T00:00:00",
          "2024-03-01T00:00:00",
          "2024-04-01T00:00:00",
          "2024-05-01T00:00:00",
          "2024-06-01T00:00:00",
          "2024-07-01T00:00:00",
          "2024-08-01T00:00:00",
          "2024-09-01T00:00:00",
          "2024-10-01T00:00:00",
          "2024-11-01T00:00:00",
          "2024-12-01T00:00:00"
         ],
         "xaxis": "x2",
         "y": {
          "bdata": "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",
          "dtype": "f8"
         },
         "yaxis": "y2"
        },
        {
         "mode": "lines",
         "name": "Unemployment Rate",
         "type": "scatter",
         "x": [
          "1999-01-01T00:00:00",
          "1999-02-01T00:00:00",
          "1999-03-01T00:00:00",
          "1999-04-01T00:00:00",
          "1999-05-01T00:00:00",
          "1999-06-01T00:00:00",
          "1999-07-01T00:00:00",
          "1999-08-01T00:00:00",
          "1999-09-01T00:00:00",
          "1999-10-01T00:00:00",
          "1999-11-01T00:00:00",
          "1999-12-01T00:00:00",
          "2000-01-01T00:00:00",
          "2000-02-01T00:00:00",
          "2000-03-01T00:00:00",
          "2000-04-01T00:00:00",
          "2000-05-01T00:00:00",
          "2000-06-01T00:00:00",
          "2000-07-01T00:00:00",
          "2000-08-01T00:00:00",
          "2000-09-01T00:00:00",
          "2000-10-01T00:00:00",
          "2000-11-01T00:00:00",
          "2000-12-01T00:00:00",
          "2001-01-01T00:00:00",
          "2001-02-01T00:00:00",
          "2001-03-01T00:00:00",
          "2001-04-01T00:00:00",
          "2001-05-01T00:00:00",
          "2001-06-01T00:00:00",
          "2001-07-01T00:00:00",
          "2001-08-01T00:00:00",
          "2001-09-01T00:00:00",
          "2001-10-01T00:00:00",
          "2001-11-01T00:00:00",
          "2001-12-01T00:00:00",
          "2002-01-01T00:00:00",
          "2002-02-01T00:00:00",
          "2002-03-01T00:00:00",
          "2002-04-01T00:00:00",
          "2002-05-01T00:00:00",
          "2002-06-01T00:00:00",
          "2002-07-01T00:00:00",
          "2002-08-01T00:00:00",
          "2002-09-01T00:00:00",
          "2002-10-01T00:00:00",
          "2002-11-01T00:00:00",
          "2002-12-01T00:00:00",
          "2003-01-01T00:00:00",
          "2003-02-01T00:00:00",
          "2003-03-01T00:00:00",
          "2003-04-01T00:00:00",
          "2003-05-01T00:00:00",
          "2003-06-01T00:00:00",
          "2003-07-01T00:00:00",
          "2003-08-01T00:00:00",
          "2003-09-01T00:00:00",
          "2003-10-01T00:00:00",
          "2003-11-01T00:00:00",
          "2003-12-01T00:00:00",
          "2004-01-01T00:00:00",
          "2004-02-01T00:00:00",
          "2004-03-01T00:00:00",
          "2004-04-01T00:00:00",
          "2004-05-01T00:00:00",
          "2004-06-01T00:00:00",
          "2004-07-01T00:00:00",
          "2004-08-01T00:00:00",
          "2004-09-01T00:00:00",
          "2004-10-01T00:00:00",
          "2004-11-01T00:00:00",
          "2004-12-01T00:00:00",
          "2005-01-01T00:00:00",
          "2005-02-01T00:00:00",
          "2005-03-01T00:00:00",
          "2005-04-01T00:00:00",
          "2005-05-01T00:00:00",
          "2005-06-01T00:00:00",
          "2005-07-01T00:00:00",
          "2005-08-01T00:00:00",
          "2005-09-01T00:00:00",
          "2005-10-01T00:00:00",
          "2005-11-01T00:00:00",
          "2005-12-01T00:00:00",
          "2006-01-01T00:00:00",
          "2006-02-01T00:00:00",
          "2006-03-01T00:00:00",
          "2006-04-01T00:00:00",
          "2006-05-01T00:00:00",
          "2006-06-01T00:00:00",
          "2006-07-01T00:00:00",
          "2006-08-01T00:00:00",
          "2006-09-01T00:00:00",
          "2006-10-01T00:00:00",
          "2006-11-01T00:00:00",
          "2006-12-01T00:00:00",
          "2007-01-01T00:00:00",
          "2007-02-01T00:00:00",
          "2007-03-01T00:00:00",
          "2007-04-01T00:00:00",
          "2007-05-01T00:00:00",
          "2007-06-01T00:00:00",
          "2007-07-01T00:00:00",
          "2007-08-01T00:00:00",
          "2007-09-01T00:00:00",
          "2007-10-01T00:00:00",
          "2007-11-01T00:00:00",
          "2007-12-01T00:00:00",
          "2009-01-01T00:00:00",
          "2009-02-01T00:00:00",
          "2009-03-01T00:00:00",
          "2009-04-01T00:00:00",
          "2009-05-01T00:00:00",
          "2009-06-01T00:00:00",
          "2009-07-01T00:00:00",
          "2009-08-01T00:00:00",
          "2009-09-01T00:00:00",
          "2009-10-01T00:00:00",
          "2009-11-01T00:00:00",
          "2009-12-01T00:00:00",
          "2010-01-01T00:00:00",
          "2010-02-01T00:00:00",
          "2010-03-01T00:00:00",
          "2010-04-01T00:00:00",
          "2010-05-01T00:00:00",
          "2010-06-01T00:00:00",
          "2010-07-01T00:00:00",
          "2010-08-01T00:00:00",
          "2010-09-01T00:00:00",
          "2010-10-01T00:00:00",
          "2010-11-01T00:00:00",
          "2010-12-01T00:00:00",
          "2011-01-01T00:00:00",
          "2011-02-01T00:00:00",
          "2011-03-01T00:00:00",
          "2011-04-01T00:00:00",
          "2011-05-01T00:00:00",
          "2011-06-01T00:00:00",
          "2011-07-01T00:00:00",
          "2011-08-01T00:00:00",
          "2011-09-01T00:00:00",
          "2011-10-01T00:00:00",
          "2011-11-01T00:00:00",
          "2011-12-01T00:00:00",
          "2012-01-01T00:00:00",
          "2012-02-01T00:00:00",
          "2012-03-01T00:00:00",
          "2012-04-01T00:00:00",
          "2012-05-01T00:00:00",
          "2012-06-01T00:00:00",
          "2012-07-01T00:00:00",
          "2012-08-01T00:00:00",
          "2012-09-01T00:00:00",
          "2012-10-01T00:00:00",
          "2012-11-01T00:00:00",
          "2012-12-01T00:00:00",
          "2013-01-01T00:00:00",
          "2013-02-01T00:00:00",
          "2013-03-01T00:00:00",
          "2013-04-01T00:00:00",
          "2013-05-01T00:00:00",
          "2013-06-01T00:00:00",
          "2013-07-01T00:00:00",
          "2013-08-01T00:00:00",
          "2013-09-01T00:00:00",
          "2013-10-01T00:00:00",
          "2013-11-01T00:00:00",
          "2013-12-01T00:00:00",
          "2014-01-01T00:00:00",
          "2014-02-01T00:00:00",
          "2014-03-01T00:00:00",
          "2014-04-01T00:00:00",
          "2014-05-01T00:00:00",
          "2014-06-01T00:00:00",
          "2014-07-01T00:00:00",
          "2014-08-01T00:00:00",
          "2014-09-01T00:00:00",
          "2014-10-01T00:00:00",
          "2014-11-01T00:00:00",
          "2014-12-01T00:00:00",
          "2015-01-01T00:00:00",
          "2015-02-01T00:00:00",
          "2015-03-01T00:00:00",
          "2015-04-01T00:00:00",
          "2015-05-01T00:00:00",
          "2015-06-01T00:00:00",
          "2015-07-01T00:00:00",
          "2015-08-01T00:00:00",
          "2015-09-01T00:00:00",
          "2015-10-01T00:00:00",
          "2015-11-01T00:00:00",
          "2015-12-01T00:00:00",
          "2016-01-01T00:00:00",
          "2016-02-01T00:00:00",
          "2016-03-01T00:00:00",
          "2016-04-01T00:00:00",
          "2016-05-01T00:00:00",
          "2016-06-01T00:00:00",
          "2016-07-01T00:00:00",
          "2016-08-01T00:00:00",
          "2016-09-01T00:00:00",
          "2016-10-01T00:00:00",
          "2016-11-01T00:00:00",
          "2016-12-01T00:00:00",
          "2017-01-01T00:00:00",
          "2017-02-01T00:00:00",
          "2017-03-01T00:00:00",
          "2017-04-01T00:00:00",
          "2017-05-01T00:00:00",
          "2017-06-01T00:00:00",
          "2017-07-01T00:00:00",
          "2017-08-01T00:00:00",
          "2017-09-01T00:00:00",
          "2017-10-01T00:00:00",
          "2017-11-01T00:00:00",
          "2017-12-01T00:00:00",
          "2018-01-01T00:00:00",
          "2018-02-01T00:00:00",
          "2018-03-01T00:00:00",
          "2018-04-01T00:00:00",
          "2018-05-01T00:00:00",
          "2018-06-01T00:00:00",
          "2018-07-01T00:00:00",
          "2018-08-01T00:00:00",
          "2018-09-01T00:00:00",
          "2018-10-01T00:00:00",
          "2018-11-01T00:00:00",
          "2018-12-01T00:00:00",
          "2019-01-01T00:00:00",
          "2019-02-01T00:00:00",
          "2019-03-01T00:00:00",
          "2019-04-01T00:00:00",
          "2019-05-01T00:00:00",
          "2019-06-01T00:00:00",
          "2019-07-01T00:00:00",
          "2019-08-01T00:00:00",
          "2019-09-01T00:00:00",
          "2019-10-01T00:00:00",
          "2019-11-01T00:00:00",
          "2019-12-01T00:00:00",
          "2020-01-01T00:00:00",
          "2020-02-01T00:00:00",
          "2020-03-01T00:00:00",
          "2020-04-01T00:00:00",
          "2020-05-01T00:00:00",
          "2020-06-01T00:00:00",
          "2020-07-01T00:00:00",
          "2020-08-01T00:00:00",
          "2020-09-01T00:00:00",
          "2020-10-01T00:00:00",
          "2020-11-01T00:00:00",
          "2020-12-01T00:00:00",
          "2021-01-01T00:00:00",
          "2021-02-01T00:00:00",
          "2021-03-01T00:00:00",
          "2021-04-01T00:00:00",
          "2021-05-01T00:00:00",
          "2021-06-01T00:00:00",
          "2021-07-01T00:00:00",
          "2021-08-01T00:00:00",
          "2021-09-01T00:00:00",
          "2021-10-01T00:00:00",
          "2021-11-01T00:00:00",
          "2021-12-01T00:00:00",
          "2022-01-01T00:00:00",
          "2022-02-01T00:00:00",
          "2022-03-01T00:00:00",
          "2022-04-01T00:00:00",
          "2022-05-01T00:00:00",
          "2022-06-01T00:00:00",
          "2022-07-01T00:00:00",
          "2022-08-01T00:00:00",
          "2022-09-01T00:00:00",
          "2022-10-01T00:00:00",
          "2022-11-01T00:00:00",
          "2022-12-01T00:00:00",
          "2023-01-01T00:00:00",
          "2023-02-01T00:00:00",
          "2023-03-01T00:00:00",
          "2023-04-01T00:00:00",
          "2023-05-01T00:00:00",
          "2023-06-01T00:00:00",
          "2023-07-01T00:00:00",
          "2023-08-01T00:00:00",
          "2023-09-01T00:00:00",
          "2023-10-01T00:00:00",
          "2023-11-01T00:00:00",
          "2023-12-01T00:00:00",
          "2024-01-01T00:00:00",
          "2024-02-01T00:00:00",
          "2024-03-01T00:00:00",
          "2024-04-01T00:00:00",
          "2024-05-01T00:00:00",
          "2024-06-01T00:00:00",
          "2024-07-01T00:00:00",
          "2024-08-01T00:00:00",
          "2024-09-01T00:00:00",
          "2024-10-01T00:00:00",
          "2024-11-01T00:00:00",
          "2024-12-01T00:00:00"
         ],
         "xaxis": "x3",
         "y": {
          "bdata": "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",
          "dtype": "f8"
         },
         "yaxis": "y3"
        }
       ],
       "layout": {
        "annotations": [
         {
          "font": {
           "size": 16
          },
          "showarrow": false,
          "text": "Percentage of CPI Yearly Changes",
          "x": 0.5,
          "xanchor": "center",
          "xref": "paper",
          "y": 1,
          "yanchor": "bottom",
          "yref": "paper"
         },
         {
          "font": {
           "size": 16
          },
          "showarrow": false,
          "text": "FRED Interest Rate",
          "x": 0.5,
          "xanchor": "center",
          "xref": "paper",
          "y": 0.6111111111111112,
          "yanchor": "bottom",
          "yref": "paper"
         },
         {
          "font": {
           "size": 16
          },
          "showarrow": false,
          "text": "Unemployment Rate",
          "x": 0.5,
          "xanchor": "center",
          "xref": "paper",
          "y": 0.22222222222222224,
          "yanchor": "bottom",
          "yref": "paper"
         },
         {
          "arrowhead": 2,
          "ax": 110,
          "ay": -20,
          "showarrow": true,
          "text": "Peak of inflation in 2009 at 4.19",
          "x": "2009-04",
          "y": 4.199
         },
         {
          "arrowhead": 2,
          "ax": -30,
          "showarrow": true,
          "text": "Peak of inflation in 2022 at 6.63",
          "x": "2022-08",
          "y": 6.63
         }
        ],
        "height": 600,
        "hovermode": "x",
        "shapes": [
         {
          "fillcolor": "orange",
          "label": {
           "font": {
            "size": 7
           },
           "text": "2008 Great Recession",
           "textposition": "top center"
          },
          "line": {
           "color": "orange"
          },
          "opacity": 0.5,
          "type": "rect",
          "x0": "2007",
          "x1": "2009-06",
          "xref": "x",
          "y0": 0,
          "y1": 1,
          "yref": "y domain"
         },
         {
          "fillcolor": "orange",
          "label": {
           "font": {
            "size": 7
           },
           "text": "2008 Great Recession",
           "textposition": "top center"
          },
          "line": {
           "color": "orange"
          },
          "opacity": 0.5,
          "type": "rect",
          "x0": "2007",
          "x1": "2009-06",
          "xref": "x2",
          "y0": 0,
          "y1": 1,
          "yref": "y2 domain"
         },
         {
          "fillcolor": "orange",
          "label": {
           "font": {
            "size": 7
           },
           "text": "2008 Great Recession",
           "textposition": "top center"
          },
          "line": {
           "color": "orange"
          },
          "opacity": 0.5,
          "type": "rect",
          "x0": "2007",
          "x1": "2009-06",
          "xref": "x3",
          "y0": 0,
          "y1": 1,
          "yref": "y3 domain"
         },
         {
          "fillcolor": "orange",
          "label": {
           "font": {
            "size": 8
           },
           "text": "COVID19",
           "textposition": "middle left"
          },
          "line": {
           "color": "orange"
          },
          "opacity": 0.5,
          "type": "rect",
          "x0": "2020-03",
          "x1": "2023-05",
          "xref": "x",
          "y0": 0,
          "y1": 1,
          "yref": "y domain"
         },
         {
          "fillcolor": "orange",
          "label": {
           "font": {
            "size": 8
           },
           "text": "COVID19",
           "textposition": "middle left"
          },
          "line": {
           "color": "orange"
          },
          "opacity": 0.5,
          "type": "rect",
          "x0": "2020-03",
          "x1": "2023-05",
          "xref": "x2",
          "y0": 0,
          "y1": 1,
          "yref": "y2 domain"
         },
         {
          "fillcolor": "orange",
          "label": {
           "font": {
            "size": 8
           },
           "text": "COVID19",
           "textposition": "middle left"
          },
          "line": {
           "color": "orange"
          },
          "opacity": 0.5,
          "type": "rect",
          "x0": "2020-03",
          "x1": "2023-05",
          "xref": "x3",
          "y0": 0,
          "y1": 1,
          "yref": "y3 domain"
         }
        ],
        "template": {
         "data": {
          "bar": [
           {
            "error_x": {
             "color": "#2a3f5f"
            },
            "error_y": {
             "color": "#2a3f5f"
            },
            "marker": {
             "line": {
              "color": "#E5ECF6",
              "width": 0.5
             },
             "pattern": {
              "fillmode": "overlay",
              "size": 10,
              "solidity": 0.2
             }
            },
            "type": "bar"
           }
          ],
          "barpolar": [
           {
            "marker": {
             "line": {
              "color": "#E5ECF6",
              "width": 0.5
             },
             "pattern": {
              "fillmode": "overlay",
              "size": 10,
              "solidity": 0.2
             }
            },
            "type": "barpolar"
           }
          ],
          "carpet": [
           {
            "aaxis": {
             "endlinecolor": "#2a3f5f",
             "gridcolor": "white",
             "linecolor": "white",
             "minorgridcolor": "white",
             "startlinecolor": "#2a3f5f"
            },
            "baxis": {
             "endlinecolor": "#2a3f5f",
             "gridcolor": "white",
             "linecolor": "white",
             "minorgridcolor": "white",
             "startlinecolor": "#2a3f5f"
            },
            "type": "carpet"
           }
          ],
          "choropleth": [
           {
            "colorbar": {
             "outlinewidth": 0,
             "ticks": ""
            },
            "type": "choropleth"
           }
          ],
          "contour": [
           {
            "colorbar": {
             "outlinewidth": 0,
             "ticks": ""
            },
            "colorscale": [
             [
              0,
              "#0d0887"
             ],
             [
              0.1111111111111111,
              "#46039f"
             ],
             [
              0.2222222222222222,
              "#7201a8"
             ],
             [
              0.3333333333333333,
              "#9c179e"
             ],
             [
              0.4444444444444444,
              "#bd3786"
             ],
             [
              0.5555555555555556,
              "#d8576b"
             ],
             [
              0.6666666666666666,
              "#ed7953"
             ],
             [
              0.7777777777777778,
              "#fb9f3a"
             ],
             [
              0.8888888888888888,
              "#fdca26"
             ],
             [
              1,
              "#f0f921"
             ]
            ],
            "type": "contour"
           }
          ],
          "contourcarpet": [
           {
            "colorbar": {
             "outlinewidth": 0,
             "ticks": ""
            },
            "type": "contourcarpet"
           }
          ],
          "heatmap": [
           {
            "colorbar": {
             "outlinewidth": 0,
             "ticks": ""
            },
            "colorscale": [
             [
              0,
              "#0d0887"
             ],
             [
              0.1111111111111111,
              "#46039f"
             ],
             [
              0.2222222222222222,
              "#7201a8"
             ],
             [
              0.3333333333333333,
              "#9c179e"
             ],
             [
              0.4444444444444444,
              "#bd3786"
             ],
             [
              0.5555555555555556,
              "#d8576b"
             ],
             [
              0.6666666666666666,
              "#ed7953"
             ],
             [
              0.7777777777777778,
              "#fb9f3a"
             ],
             [
              0.8888888888888888,
              "#fdca26"
             ],
             [
              1,
              "#f0f921"
             ]
            ],
            "type": "heatmap"
           }
          ],
          "histogram": [
           {
            "marker": {
             "pattern": {
              "fillmode": "overlay",
              "size": 10,
              "solidity": 0.2
             }
            },
            "type": "histogram"
           }
          ],
          "histogram2d": [
           {
            "colorbar": {
             "outlinewidth": 0,
             "ticks": ""
            },
            "colorscale": [
             [
              0,
              "#0d0887"
             ],
             [
              0.1111111111111111,
              "#46039f"
             ],
             [
              0.2222222222222222,
              "#7201a8"
             ],
             [
              0.3333333333333333,
              "#9c179e"
             ],
             [
              0.4444444444444444,
              "#bd3786"
             ],
             [
              0.5555555555555556,
              "#d8576b"
             ],
             [
              0.6666666666666666,
              "#ed7953"
             ],
             [
              0.7777777777777778,
              "#fb9f3a"
             ],
             [
              0.8888888888888888,
              "#fdca26"
             ],
             [
              1,
              "#f0f921"
             ]
            ],
            "type": "histogram2d"
           }
          ],
          "histogram2dcontour": [
           {
            "colorbar": {
             "outlinewidth": 0,
             "ticks": ""
            },
            "colorscale": [
             [
              0,
              "#0d0887"
             ],
             [
              0.1111111111111111,
              "#46039f"
             ],
             [
              0.2222222222222222,
              "#7201a8"
             ],
             [
              0.3333333333333333,
              "#9c179e"
             ],
             [
              0.4444444444444444,
              "#bd3786"
             ],
             [
              0.5555555555555556,
              "#d8576b"
             ],
             [
              0.6666666666666666,
              "#ed7953"
             ],
             [
              0.7777777777777778,
              "#fb9f3a"
             ],
             [
              0.8888888888888888,
              "#fdca26"
             ],
             [
              1,
              "#f0f921"
             ]
            ],
            "type": "histogram2dcontour"
           }
          ],
          "mesh3d": [
           {
            "colorbar": {
             "outlinewidth": 0,
             "ticks": ""
            },
            "type": "mesh3d"
           }
          ],
          "parcoords": [
           {
            "line": {
             "colorbar": {
              "outlinewidth": 0,
              "ticks": ""
             }
            },
            "type": "parcoords"
           }
          ],
          "pie": [
           {
            "automargin": true,
            "type": "pie"
           }
          ],
          "scatter": [
           {
            "fillpattern": {
             "fillmode": "overlay",
             "size": 10,
             "solidity": 0.2
            },
            "type": "scatter"
           }
          ],
          "scatter3d": [
           {
            "line": {
             "colorbar": {
              "outlinewidth": 0,
              "ticks": ""
             }
            },
            "marker": {
             "colorbar": {
              "outlinewidth": 0,
              "ticks": ""
             }
            },
            "type": "scatter3d"
           }
          ],
          "scattercarpet": [
           {
            "marker": {
             "colorbar": {
              "outlinewidth": 0,
              "ticks": ""
             }
            },
            "type": "scattercarpet"
           }
          ],
          "scattergeo": [
           {
            "marker": {
             "colorbar": {
              "outlinewidth": 0,
              "ticks": ""
             }
            },
            "type": "scattergeo"
           }
          ],
          "scattergl": [
           {
            "marker": {
             "colorbar": {
              "outlinewidth": 0,
              "ticks": ""
             }
            },
            "type": "scattergl"
           }
          ],
          "scattermap": [
           {
            "marker": {
             "colorbar": {
              "outlinewidth": 0,
              "ticks": ""
             }
            },
            "type": "scattermap"
           }
          ],
          "scattermapbox": [
           {
            "marker": {
             "colorbar": {
              "outlinewidth": 0,
              "ticks": ""
             }
            },
            "type": "scattermapbox"
           }
          ],
          "scatterpolar": [
           {
            "marker": {
             "colorbar": {
              "outlinewidth": 0,
              "ticks": ""
             }
            },
            "type": "scatterpolar"
           }
          ],
          "scatterpolargl": [
           {
            "marker": {
             "colorbar": {
              "outlinewidth": 0,
              "ticks": ""
             }
            },
            "type": "scatterpolargl"
           }
          ],
          "scatterternary": [
           {
            "marker": {
             "colorbar": {
              "outlinewidth": 0,
              "ticks": ""
             }
            },
            "type": "scatterternary"
           }
          ],
          "surface": [
           {
            "colorbar": {
             "outlinewidth": 0,
             "ticks": ""
            },
            "colorscale": [
             [
              0,
              "#0d0887"
             ],
             [
              0.1111111111111111,
              "#46039f"
             ],
             [
              0.2222222222222222,
              "#7201a8"
             ],
             [
              0.3333333333333333,
              "#9c179e"
             ],
             [
              0.4444444444444444,
              "#bd3786"
             ],
             [
              0.5555555555555556,
              "#d8576b"
             ],
             [
              0.6666666666666666,
              "#ed7953"
             ],
             [
              0.7777777777777778,
              "#fb9f3a"
             ],
             [
              0.8888888888888888,
              "#fdca26"
             ],
             [
              1,
              "#f0f921"
             ]
            ],
            "type": "surface"
           }
          ],
          "table": [
           {
            "cells": {
             "fill": {
              "color": "#EBF0F8"
             },
             "line": {
              "color": "white"
             }
            },
            "header": {
             "fill": {
              "color": "#C8D4E3"
             },
             "line": {
              "color": "white"
             }
            },
            "type": "table"
           }
          ]
         },
         "layout": {
          "annotationdefaults": {
           "arrowcolor": "#2a3f5f",
           "arrowhead": 0,
           "arrowwidth": 1
          },
          "autotypenumbers": "strict",
          "coloraxis": {
           "colorbar": {
            "outlinewidth": 0,
            "ticks": ""
           }
          },
          "colorscale": {
           "diverging": [
            [
             0,
             "#8e0152"
            ],
            [
             0.1,
             "#c51b7d"
            ],
            [
             0.2,
             "#de77ae"
            ],
            [
             0.3,
             "#f1b6da"
            ],
            [
             0.4,
             "#fde0ef"
            ],
            [
             0.5,
             "#f7f7f7"
            ],
            [
             0.6,
             "#e6f5d0"
            ],
            [
             0.7,
             "#b8e186"
            ],
            [
             0.8,
             "#7fbc41"
            ],
            [
             0.9,
             "#4d9221"
            ],
            [
             1,
             "#276419"
            ]
           ],
           "sequential": [
            [
             0,
             "#0d0887"
            ],
            [
             0.1111111111111111,
             "#46039f"
            ],
            [
             0.2222222222222222,
             "#7201a8"
            ],
            [
             0.3333333333333333,
             "#9c179e"
            ],
            [
             0.4444444444444444,
             "#bd3786"
            ],
            [
             0.5555555555555556,
             "#d8576b"
            ],
            [
             0.6666666666666666,
             "#ed7953"
            ],
            [
             0.7777777777777778,
             "#fb9f3a"
            ],
            [
             0.8888888888888888,
             "#fdca26"
            ],
            [
             1,
             "#f0f921"
            ]
           ],
           "sequentialminus": [
            [
             0,
             "#0d0887"
            ],
            [
             0.1111111111111111,
             "#46039f"
            ],
            [
             0.2222222222222222,
             "#7201a8"
            ],
            [
             0.3333333333333333,
             "#9c179e"
            ],
            [
             0.4444444444444444,
             "#bd3786"
            ],
            [
             0.5555555555555556,
             "#d8576b"
            ],
            [
             0.6666666666666666,
             "#ed7953"
            ],
            [
             0.7777777777777778,
             "#fb9f3a"
            ],
            [
             0.8888888888888888,
             "#fdca26"
            ],
            [
             1,
             "#f0f921"
            ]
           ]
          },
          "colorway": [
           "#636efa",
           "#EF553B",
           "#00cc96",
           "#ab63fa",
           "#FFA15A",
           "#19d3f3",
           "#FF6692",
           "#B6E880",
           "#FF97FF",
           "#FECB52"
          ],
          "font": {
           "color": "#2a3f5f"
          },
          "geo": {
           "bgcolor": "white",
           "lakecolor": "white",
           "landcolor": "#E5ECF6",
           "showlakes": true,
           "showland": true,
           "subunitcolor": "white"
          },
          "hoverlabel": {
           "align": "left"
          },
          "hovermode": "closest",
          "mapbox": {
           "style": "light"
          },
          "paper_bgcolor": "white",
          "plot_bgcolor": "#E5ECF6",
          "polar": {
           "angularaxis": {
            "gridcolor": "white",
            "linecolor": "white",
            "ticks": ""
           },
           "bgcolor": "#E5ECF6",
           "radialaxis": {
            "gridcolor": "white",
            "linecolor": "white",
            "ticks": ""
           }
          },
          "scene": {
           "xaxis": {
            "backgroundcolor": "#E5ECF6",
            "gridcolor": "white",
            "gridwidth": 2,
            "linecolor": "white",
            "showbackground": true,
            "ticks": "",
            "zerolinecolor": "white"
           },
           "yaxis": {
            "backgroundcolor": "#E5ECF6",
            "gridcolor": "white",
            "gridwidth": 2,
            "linecolor": "white",
            "showbackground": true,
            "ticks": "",
            "zerolinecolor": "white"
           },
           "zaxis": {
            "backgroundcolor": "#E5ECF6",
            "gridcolor": "white",
            "gridwidth": 2,
            "linecolor": "white",
            "showbackground": true,
            "ticks": "",
            "zerolinecolor": "white"
           }
          },
          "shapedefaults": {
           "line": {
            "color": "#2a3f5f"
           }
          },
          "ternary": {
           "aaxis": {
            "gridcolor": "white",
            "linecolor": "white",
            "ticks": ""
           },
           "baxis": {
            "gridcolor": "white",
            "linecolor": "white",
            "ticks": ""
           },
           "bgcolor": "#E5ECF6",
           "caxis": {
            "gridcolor": "white",
            "linecolor": "white",
            "ticks": ""
           }
          },
          "title": {
           "x": 0.05
          },
          "xaxis": {
           "automargin": true,
           "gridcolor": "white",
           "linecolor": "white",
           "ticks": "",
           "title": {
            "standoff": 15
           },
           "zerolinecolor": "white",
           "zerolinewidth": 2
          },
          "yaxis": {
           "automargin": true,
           "gridcolor": "white",
           "linecolor": "white",
           "ticks": "",
           "title": {
            "standoff": 15
           },
           "zerolinecolor": "white",
           "zerolinewidth": 2
          }
         }
        },
        "title": {
         "text": "Two significant economic crises in the past 25 years (1999-2024)",
         "x": 0.45,
         "xanchor": "center"
        },
        "width": 1000,
        "xaxis": {
         "anchor": "y",
         "domain": [
          0,
          1
         ],
         "dtick": "M12",
         "tickangle": 30,
         "tickformat": "%Y"
        },
        "xaxis2": {
         "anchor": "y2",
         "domain": [
          0,
          1
         ],
         "dtick": "M12",
         "tickangle": 30,
         "tickformat": "%Y"
        },
        "xaxis3": {
         "anchor": "y3",
         "domain": [
          0,
          1
         ],
         "dtick": "M12",
         "tickangle": 30,
         "tickformat": "%Y"
        },
        "yaxis": {
         "anchor": "x",
         "domain": [
          0.7777777777777778,
          1
         ]
        },
        "yaxis2": {
         "anchor": "x2",
         "domain": [
          0.3888888888888889,
          0.6111111111111112
         ]
        },
        "yaxis3": {
         "anchor": "x3",
         "domain": [
          0,
          0.22222222222222224
         ]
        }
       }
      }
     },
     "metadata": {},
     "output_type": "display_data"
    }
   ],
   "source": [
    "df_filtered = df_final[df_final['date'] > '1998-12-01']\n",
    "df_filtered = df_filtered[['date', 'yearly_cpi_changes', 'FED_rate', 'unemply_rate']]\n",
    "fig = make_subplots(rows = 3, cols = 1, subplot_titles=['Percentage of CPI Yearly Changes', 'FRED Interest Rate', 'Unemployment Rate'])\n",
    "\n",
    "fig.add_trace(\n",
    "    go.Scatter(\n",
    "        x=df_filtered['date'],\n",
    "        y=df_filtered['yearly_cpi_changes'],\n",
    "        name='Percentage of CPI Yearly Changes',\n",
    "        mode='lines'\n",
    "        ), row=1, col=1)\n",
    "\n",
    "fig.add_trace(\n",
    "    go.Scatter(\n",
    "        x=df_filtered['date'],\n",
    "        y=df_filtered['FED_rate'],\n",
    "        name='FRED Interest Rate',\n",
    "        mode='lines'\n",
    "    ), row=2, col=1\n",
    ")\n",
    "\n",
    "fig.add_trace(\n",
    "    go.Scatter(\n",
    "        x=df_filtered['date'],\n",
    "        y=df_filtered['unemply_rate'],\n",
    "        name='Unemployment Rate',\n",
    "        mode='lines'\n",
    "    ), row=3, col=1\n",
    ")\n",
    "\n",
    "fig.update_xaxes(\n",
    "    dtick='M12',\n",
    "    tickformat='%Y',\n",
    "    tickangle=30\n",
    ")\n",
    "\n",
    "fig.add_vrect(\n",
    "    x0='2007',\n",
    "    x1='2009-06',\n",
    "    fillcolor='orange',\n",
    "    line_color='orange',\n",
    "    opacity=0.5,\n",
    "    label=dict(text='2008 Great Recession', textposition='top center', font=dict(size=7))\n",
    ")\n",
    "\n",
    "fig.add_vrect(\n",
    "    x0='2020-03',\n",
    "    x1='2023-05',\n",
    "    fillcolor='orange',\n",
    "    line_color='orange',\n",
    "    opacity=0.5,\n",
    "    label=dict(text='COVID19', textposition='middle left', font=dict(size=8))\n",
    ")\n",
    "\n",
    "fig.add_annotation(x='2009-04', y=4.199,\n",
    "                   text='Peak of inflation in 2009 at 4.19',\n",
    "                   showarrow=True,\n",
    "                   arrowhead=2,\n",
    "                   ax=110,\n",
    "                   ay=-20)\n",
    "\n",
    "fig.add_annotation(x='2022-08', y=6.63,\n",
    "                   text='Peak of inflation in 2022 at 6.63',\n",
    "                   ax=-30,\n",
    "                   showarrow=True,\n",
    "                   arrowhead=2)\n",
    "\n",
    "fig.update_layout(height=600, width=1000,\n",
    "                  title = {\n",
    "                      'text': 'Two significant economic crises in the past 25 years (1999-2024)',\n",
    "                      'x': 0.45,\n",
    "                      'xanchor': 'center'},\n",
    "                      hovermode='x')\n",
    "fig.show()"
   ]
  },
  {
   "cell_type": "code",
   "execution_count": 9,
   "id": "6a042254",
   "metadata": {},
   "outputs": [
    {
     "data": {
      "image/png": "[encoded data removed]",
      "text/plain": [
       "<IPython.core.display.Image object>"
      ]
     },
     "execution_count": 9,
     "metadata": {},
     "output_type": "execute_result"
    }
   ],
   "source": [
    "Image(\"fig1.png\")"
   ]
  },
  {
   "cell_type": "markdown",
   "id": "01bf841e",
   "metadata": {},
   "source": [
    "Figure 1: 25 years of economic data overall between FED interest rate, unemployment, and inflation"
   ]
  },
  {
   "cell_type": "code",
   "execution_count": 10,
   "id": "01b741bd",
   "metadata": {},
   "outputs": [
    {
     "data": {
      "application/vnd.plotly.v1+json": {
       "config": {
        "plotlyServerURL": "https://plot.ly"
       },
       "data": [
        {
         "line": {
          "color": "green"
         },
         "mode": "lines",
         "name": "Unemployment Rate",
         "type": "scatter",
         "x": [
          "1999-01-01T00:00:00",
          "1999-02-01T00:00:00",
          "1999-03-01T00:00:00",
          "1999-04-01T00:00:00",
          "1999-05-01T00:00:00",
          "1999-06-01T00:00:00",
          "1999-07-01T00:00:00",
          "1999-08-01T00:00:00",
          "1999-09-01T00:00:00",
          "1999-10-01T00:00:00",
          "1999-11-01T00:00:00",
          "1999-12-01T00:00:00",
          "2000-01-01T00:00:00",
          "2000-02-01T00:00:00",
          "2000-03-01T00:00:00",
          "2000-04-01T00:00:00",
          "2000-05-01T00:00:00",
          "2000-06-01T00:00:00",
          "2000-07-01T00:00:00",
          "2000-08-01T00:00:00",
          "2000-09-01T00:00:00",
          "2000-10-01T00:00:00",
          "2000-11-01T00:00:00",
          "2000-12-01T00:00:00",
          "2001-01-01T00:00:00",
          "2001-02-01T00:00:00",
          "2001-03-01T00:00:00",
          "2001-04-01T00:00:00",
          "2001-05-01T00:00:00",
          "2001-06-01T00:00:00",
          "2001-07-01T00:00:00",
          "2001-08-01T00:00:00",
          "2001-09-01T00:00:00",
          "2001-10-01T00:00:00",
          "2001-11-01T00:00:00",
          "2001-12-01T00:00:00",
          "2002-01-01T00:00:00",
          "2002-02-01T00:00:00",
          "2002-03-01T00:00:00",
          "2002-04-01T00:00:00",
          "2002-05-01T00:00:00",
          "2002-06-01T00:00:00",
          "2002-07-01T00:00:00",
          "2002-08-01T00:00:00",
          "2002-09-01T00:00:00",
          "2002-10-01T00:00:00",
          "2002-11-01T00:00:00",
          "2002-12-01T00:00:00",
          "2003-01-01T00:00:00",
          "2003-02-01T00:00:00",
          "2003-03-01T00:00:00",
          "2003-04-01T00:00:00",
          "2003-05-01T00:00:00",
          "2003-06-01T00:00:00",
          "2003-07-01T00:00:00",
          "2003-08-01T00:00:00",
          "2003-09-01T00:00:00",
          "2003-10-01T00:00:00",
          "2003-11-01T00:00:00",
          "2003-12-01T00:00:00",
          "2004-01-01T00:00:00",
          "2004-02-01T00:00:00",
          "2004-03-01T00:00:00",
          "2004-04-01T00:00:00",
          "2004-05-01T00:00:00",
          "2004-06-01T00:00:00",
          "2004-07-01T00:00:00",
          "2004-08-01T00:00:00",
          "2004-09-01T00:00:00",
          "2004-10-01T00:00:00",
          "2004-11-01T00:00:00",
          "2004-12-01T00:00:00",
          "2005-01-01T00:00:00",
          "2005-02-01T00:00:00",
          "2005-03-01T00:00:00",
          "2005-04-01T00:00:00",
          "2005-05-01T00:00:00",
          "2005-06-01T00:00:00",
          "2005-07-01T00:00:00",
          "2005-08-01T00:00:00",
          "2005-09-01T00:00:00",
          "2005-10-01T00:00:00",
          "2005-11-01T00:00:00",
          "2005-12-01T00:00:00",
          "2006-01-01T00:00:00",
          "2006-02-01T00:00:00",
          "2006-03-01T00:00:00",
          "2006-04-01T00:00:00",
          "2006-05-01T00:00:00",
          "2006-06-01T00:00:00",
          "2006-07-01T00:00:00",
          "2006-08-01T00:00:00",
          "2006-09-01T00:00:00",
          "2006-10-01T00:00:00",
          "2006-11-01T00:00:00",
          "2006-12-01T00:00:00",
          "2007-01-01T00:00:00",
          "2007-02-01T00:00:00",
          "2007-03-01T00:00:00",
          "2007-04-01T00:00:00",
          "2007-05-01T00:00:00",
          "2007-06-01T00:00:00",
          "2007-07-01T00:00:00",
          "2007-08-01T00:00:00",
          "2007-09-01T00:00:00",
          "2007-10-01T00:00:00",
          "2007-11-01T00:00:00",
          "2007-12-01T00:00:00",
          "2009-01-01T00:00:00",
          "2009-02-01T00:00:00",
          "2009-03-01T00:00:00",
          "2009-04-01T00:00:00",
          "2009-05-01T00:00:00",
          "2009-06-01T00:00:00",
          "2009-07-01T00:00:00",
          "2009-08-01T00:00:00",
          "2009-09-01T00:00:00",
          "2009-10-01T00:00:00",
          "2009-11-01T00:00:00",
          "2009-12-01T00:00:00",
          "2010-01-01T00:00:00",
          "2010-02-01T00:00:00",
          "2010-03-01T00:00:00",
          "2010-04-01T00:00:00",
          "2010-05-01T00:00:00",
          "2010-06-01T00:00:00",
          "2010-07-01T00:00:00",
          "2010-08-01T00:00:00",
          "2010-09-01T00:00:00",
          "2010-10-01T00:00:00",
          "2010-11-01T00:00:00",
          "2010-12-01T00:00:00",
          "2011-01-01T00:00:00",
          "2011-02-01T00:00:00",
          "2011-03-01T00:00:00",
          "2011-04-01T00:00:00",
          "2011-05-01T00:00:00",
          "2011-06-01T00:00:00",
          "2011-07-01T00:00:00",
          "2011-08-01T00:00:00",
          "2011-09-01T00:00:00",
          "2011-10-01T00:00:00",
          "2011-11-01T00:00:00",
          "2011-12-01T00:00:00",
          "2012-01-01T00:00:00",
          "2012-02-01T00:00:00",
          "2012-03-01T00:00:00",
          "2012-04-01T00:00:00",
          "2012-05-01T00:00:00",
          "2012-06-01T00:00:00",
          "2012-07-01T00:00:00",
          "2012-08-01T00:00:00",
          "2012-09-01T00:00:00",
          "2012-10-01T00:00:00",
          "2012-11-01T00:00:00",
          "2012-12-01T00:00:00",
          "2013-01-01T00:00:00",
          "2013-02-01T00:00:00",
          "2013-03-01T00:00:00",
          "2013-04-01T00:00:00",
          "2013-05-01T00:00:00",
          "2013-06-01T00:00:00",
          "2013-07-01T00:00:00",
          "2013-08-01T00:00:00",
          "2013-09-01T00:00:00",
          "2013-10-01T00:00:00",
          "2013-11-01T00:00:00",
          "2013-12-01T00:00:00",
          "2014-01-01T00:00:00",
          "2014-02-01T00:00:00",
          "2014-03-01T00:00:00",
          "2014-04-01T00:00:00",
          "2014-05-01T00:00:00",
          "2014-06-01T00:00:00",
          "2014-07-01T00:00:00",
          "2014-08-01T00:00:00",
          "2014-09-01T00:00:00",
          "2014-10-01T00:00:00",
          "2014-11-01T00:00:00",
          "2014-12-01T00:00:00",
          "2015-01-01T00:00:00",
          "2015-02-01T00:00:00",
          "2015-03-01T00:00:00",
          "2015-04-01T00:00:00",
          "2015-05-01T00:00:00",
          "2015-06-01T00:00:00",
          "2015-07-01T00:00:00",
          "2015-08-01T00:00:00",
          "2015-09-01T00:00:00",
          "2015-10-01T00:00:00",
          "2015-11-01T00:00:00",
          "2015-12-01T00:00:00",
          "2016-01-01T00:00:00",
          "2016-02-01T00:00:00",
          "2016-03-01T00:00:00",
          "2016-04-01T00:00:00",
          "2016-05-01T00:00:00",
          "2016-06-01T00:00:00",
          "2016-07-01T00:00:00",
          "2016-08-01T00:00:00",
          "2016-09-01T00:00:00",
          "2016-10-01T00:00:00",
          "2016-11-01T00:00:00",
          "2016-12-01T00:00:00",
          "2017-01-01T00:00:00",
          "2017-02-01T00:00:00",
          "2017-03-01T00:00:00",
          "2017-04-01T00:00:00",
          "2017-05-01T00:00:00",
          "2017-06-01T00:00:00",
          "2017-07-01T00:00:00",
          "2017-08-01T00:00:00",
          "2017-09-01T00:00:00",
          "2017-10-01T00:00:00",
          "2017-11-01T00:00:00",
          "2017-12-01T00:00:00",
          "2018-01-01T00:00:00",
          "2018-02-01T00:00:00",
          "2018-03-01T00:00:00",
          "2018-04-01T00:00:00",
          "2018-05-01T00:00:00",
          "2018-06-01T00:00:00",
          "2018-07-01T00:00:00",
          "2018-08-01T00:00:00",
          "2018-09-01T00:00:00",
          "2018-10-01T00:00:00",
          "2018-11-01T00:00:00",
          "2018-12-01T00:00:00",
          "2019-01-01T00:00:00",
          "2019-02-01T00:00:00",
          "2019-03-01T00:00:00",
          "2019-04-01T00:00:00",
          "2019-05-01T00:00:00",
          "2019-06-01T00:00:00",
          "2019-07-01T00:00:00",
          "2019-08-01T00:00:00",
          "2019-09-01T00:00:00",
          "2019-10-01T00:00:00",
          "2019-11-01T00:00:00",
          "2019-12-01T00:00:00",
          "2020-01-01T00:00:00",
          "2020-02-01T00:00:00",
          "2020-03-01T00:00:00",
          "2020-04-01T00:00:00",
          "2020-05-01T00:00:00",
          "2020-06-01T00:00:00",
          "2020-07-01T00:00:00",
          "2020-08-01T00:00:00",
          "2020-09-01T00:00:00",
          "2020-10-01T00:00:00",
          "2020-11-01T00:00:00",
          "2020-12-01T00:00:00",
          "2021-01-01T00:00:00",
          "2021-02-01T00:00:00",
          "2021-03-01T00:00:00",
          "2021-04-01T00:00:00",
          "2021-05-01T00:00:00",
          "2021-06-01T00:00:00",
          "2021-07-01T00:00:00",
          "2021-08-01T00:00:00",
          "2021-09-01T00:00:00",
          "2021-10-01T00:00:00",
          "2021-11-01T00:00:00",
          "2021-12-01T00:00:00",
          "2022-01-01T00:00:00",
          "2022-02-01T00:00:00",
          "2022-03-01T00:00:00",
          "2022-04-01T00:00:00",
          "2022-05-01T00:00:00",
          "2022-06-01T00:00:00",
          "2022-07-01T00:00:00",
          "2022-08-01T00:00:00",
          "2022-09-01T00:00:00",
          "2022-10-01T00:00:00",
          "2022-11-01T00:00:00",
          "2022-12-01T00:00:00",
          "2023-01-01T00:00:00",
          "2023-02-01T00:00:00",
          "2023-03-01T00:00:00",
          "2023-04-01T00:00:00",
          "2023-05-01T00:00:00",
          "2023-06-01T00:00:00",
          "2023-07-01T00:00:00",
          "2023-08-01T00:00:00",
          "2023-09-01T00:00:00",
          "2023-10-01T00:00:00",
          "2023-11-01T00:00:00",
          "2023-12-01T00:00:00",
          "2024-01-01T00:00:00",
          "2024-02-01T00:00:00",
          "2024-03-01T00:00:00",
          "2024-04-01T00:00:00",
          "2024-05-01T00:00:00",
          "2024-06-01T00:00:00",
          "2024-07-01T00:00:00",
          "2024-08-01T00:00:00",
          "2024-09-01T00:00:00",
          "2024-10-01T00:00:00",
          "2024-11-01T00:00:00",
          "2024-12-01T00:00:00"
         ],
         "y": {
          "bdata": "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",
          "dtype": "f8"
         }
        },
        {
         "mode": "lines",
         "name": "FED Rate",
         "type": "scatter",
         "x": [
          "1999-01-01T00:00:00",
          "1999-02-01T00:00:00",
          "1999-03-01T00:00:00",
          "1999-04-01T00:00:00",
          "1999-05-01T00:00:00",
          "1999-06-01T00:00:00",
          "1999-07-01T00:00:00",
          "1999-08-01T00:00:00",
          "1999-09-01T00:00:00",
          "1999-10-01T00:00:00",
          "1999-11-01T00:00:00",
          "1999-12-01T00:00:00",
          "2000-01-01T00:00:00",
          "2000-02-01T00:00:00",
          "2000-03-01T00:00:00",
          "2000-04-01T00:00:00",
          "2000-05-01T00:00:00",
          "2000-06-01T00:00:00",
          "2000-07-01T00:00:00",
          "2000-08-01T00:00:00",
          "2000-09-01T00:00:00",
          "2000-10-01T00:00:00",
          "2000-11-01T00:00:00",
          "2000-12-01T00:00:00",
          "2001-01-01T00:00:00",
          "2001-02-01T00:00:00",
          "2001-03-01T00:00:00",
          "2001-04-01T00:00:00",
          "2001-05-01T00:00:00",
          "2001-06-01T00:00:00",
          "2001-07-01T00:00:00",
          "2001-08-01T00:00:00",
          "2001-09-01T00:00:00",
          "2001-10-01T00:00:00",
          "2001-11-01T00:00:00",
          "2001-12-01T00:00:00",
          "2002-01-01T00:00:00",
          "2002-02-01T00:00:00",
          "2002-03-01T00:00:00",
          "2002-04-01T00:00:00",
          "2002-05-01T00:00:00",
          "2002-06-01T00:00:00",
          "2002-07-01T00:00:00",
          "2002-08-01T00:00:00",
          "2002-09-01T00:00:00",
          "2002-10-01T00:00:00",
          "2002-11-01T00:00:00",
          "2002-12-01T00:00:00",
          "2003-01-01T00:00:00",
          "2003-02-01T00:00:00",
          "2003-03-01T00:00:00",
          "2003-04-01T00:00:00",
          "2003-05-01T00:00:00",
          "2003-06-01T00:00:00",
          "2003-07-01T00:00:00",
          "2003-08-01T00:00:00",
          "2003-09-01T00:00:00",
          "2003-10-01T00:00:00",
          "2003-11-01T00:00:00",
          "2003-12-01T00:00:00",
          "2004-01-01T00:00:00",
          "2004-02-01T00:00:00",
          "2004-03-01T00:00:00",
          "2004-04-01T00:00:00",
          "2004-05-01T00:00:00",
          "2004-06-01T00:00:00",
          "2004-07-01T00:00:00",
          "2004-08-01T00:00:00",
          "2004-09-01T00:00:00",
          "2004-10-01T00:00:00",
          "2004-11-01T00:00:00",
          "2004-12-01T00:00:00",
          "2005-01-01T00:00:00",
          "2005-02-01T00:00:00",
          "2005-03-01T00:00:00",
          "2005-04-01T00:00:00",
          "2005-05-01T00:00:00",
          "2005-06-01T00:00:00",
          "2005-07-01T00:00:00",
          "2005-08-01T00:00:00",
          "2005-09-01T00:00:00",
          "2005-10-01T00:00:00",
          "2005-11-01T00:00:00",
          "2005-12-01T00:00:00",
          "2006-01-01T00:00:00",
          "2006-02-01T00:00:00",
          "2006-03-01T00:00:00",
          "2006-04-01T00:00:00",
          "2006-05-01T00:00:00",
          "2006-06-01T00:00:00",
          "2006-07-01T00:00:00",
          "2006-08-01T00:00:00",
          "2006-09-01T00:00:00",
          "2006-10-01T00:00:00",
          "2006-11-01T00:00:00",
          "2006-12-01T00:00:00",
          "2007-01-01T00:00:00",
          "2007-02-01T00:00:00",
          "2007-03-01T00:00:00",
          "2007-04-01T00:00:00",
          "2007-05-01T00:00:00",
          "2007-06-01T00:00:00",
          "2007-07-01T00:00:00",
          "2007-08-01T00:00:00",
          "2007-09-01T00:00:00",
          "2007-10-01T00:00:00",
          "2007-11-01T00:00:00",
          "2007-12-01T00:00:00",
          "2009-01-01T00:00:00",
          "2009-02-01T00:00:00",
          "2009-03-01T00:00:00",
          "2009-04-01T00:00:00",
          "2009-05-01T00:00:00",
          "2009-06-01T00:00:00",
          "2009-07-01T00:00:00",
          "2009-08-01T00:00:00",
          "2009-09-01T00:00:00",
          "2009-10-01T00:00:00",
          "2009-11-01T00:00:00",
          "2009-12-01T00:00:00",
          "2010-01-01T00:00:00",
          "2010-02-01T00:00:00",
          "2010-03-01T00:00:00",
          "2010-04-01T00:00:00",
          "2010-05-01T00:00:00",
          "2010-06-01T00:00:00",
          "2010-07-01T00:00:00",
          "2010-08-01T00:00:00",
          "2010-09-01T00:00:00",
          "2010-10-01T00:00:00",
          "2010-11-01T00:00:00",
          "2010-12-01T00:00:00",
          "2011-01-01T00:00:00",
          "2011-02-01T00:00:00",
          "2011-03-01T00:00:00",
          "2011-04-01T00:00:00",
          "2011-05-01T00:00:00",
          "2011-06-01T00:00:00",
          "2011-07-01T00:00:00",
          "2011-08-01T00:00:00",
          "2011-09-01T00:00:00",
          "2011-10-01T00:00:00",
          "2011-11-01T00:00:00",
          "2011-12-01T00:00:00",
          "2012-01-01T00:00:00",
          "2012-02-01T00:00:00",
          "2012-03-01T00:00:00",
          "2012-04-01T00:00:00",
          "2012-05-01T00:00:00",
          "2012-06-01T00:00:00",
          "2012-07-01T00:00:00",
          "2012-08-01T00:00:00",
          "2012-09-01T00:00:00",
          "2012-10-01T00:00:00",
          "2012-11-01T00:00:00",
          "2012-12-01T00:00:00",
          "2013-01-01T00:00:00",
          "2013-02-01T00:00:00",
          "2013-03-01T00:00:00",
          "2013-04-01T00:00:00",
          "2013-05-01T00:00:00",
          "2013-06-01T00:00:00",
          "2013-07-01T00:00:00",
          "2013-08-01T00:00:00",
          "2013-09-01T00:00:00",
          "2013-10-01T00:00:00",
          "2013-11-01T00:00:00",
          "2013-12-01T00:00:00",
          "2014-01-01T00:00:00",
          "2014-02-01T00:00:00",
          "2014-03-01T00:00:00",
          "2014-04-01T00:00:00",
          "2014-05-01T00:00:00",
          "2014-06-01T00:00:00",
          "2014-07-01T00:00:00",
          "2014-08-01T00:00:00",
          "2014-09-01T00:00:00",
          "2014-10-01T00:00:00",
          "2014-11-01T00:00:00",
          "2014-12-01T00:00:00",
          "2015-01-01T00:00:00",
          "2015-02-01T00:00:00",
          "2015-03-01T00:00:00",
          "2015-04-01T00:00:00",
          "2015-05-01T00:00:00",
          "2015-06-01T00:00:00",
          "2015-07-01T00:00:00",
          "2015-08-01T00:00:00",
          "2015-09-01T00:00:00",
          "2015-10-01T00:00:00",
          "2015-11-01T00:00:00",
          "2015-12-01T00:00:00",
          "2016-01-01T00:00:00",
          "2016-02-01T00:00:00",
          "2016-03-01T00:00:00",
          "2016-04-01T00:00:00",
          "2016-05-01T00:00:00",
          "2016-06-01T00:00:00",
          "2016-07-01T00:00:00",
          "2016-08-01T00:00:00",
          "2016-09-01T00:00:00",
          "2016-10-01T00:00:00",
          "2016-11-01T00:00:00",
          "2016-12-01T00:00:00",
          "2017-01-01T00:00:00",
          "2017-02-01T00:00:00",
          "2017-03-01T00:00:00",
          "2017-04-01T00:00:00",
          "2017-05-01T00:00:00",
          "2017-06-01T00:00:00",
          "2017-07-01T00:00:00",
          "2017-08-01T00:00:00",
          "2017-09-01T00:00:00",
          "2017-10-01T00:00:00",
          "2017-11-01T00:00:00",
          "2017-12-01T00:00:00",
          "2018-01-01T00:00:00",
          "2018-02-01T00:00:00",
          "2018-03-01T00:00:00",
          "2018-04-01T00:00:00",
          "2018-05-01T00:00:00",
          "2018-06-01T00:00:00",
          "2018-07-01T00:00:00",
          "2018-08-01T00:00:00",
          "2018-09-01T00:00:00",
          "2018-10-01T00:00:00",
          "2018-11-01T00:00:00",
          "2018-12-01T00:00:00",
          "2019-01-01T00:00:00",
          "2019-02-01T00:00:00",
          "2019-03-01T00:00:00",
          "2019-04-01T00:00:00",
          "2019-05-01T00:00:00",
          "2019-06-01T00:00:00",
          "2019-07-01T00:00:00",
          "2019-08-01T00:00:00",
          "2019-09-01T00:00:00",
          "2019-10-01T00:00:00",
          "2019-11-01T00:00:00",
          "2019-12-01T00:00:00",
          "2020-01-01T00:00:00",
          "2020-02-01T00:00:00",
          "2020-03-01T00:00:00",
          "2020-04-01T00:00:00",
          "2020-05-01T00:00:00",
          "2020-06-01T00:00:00",
          "2020-07-01T00:00:00",
          "2020-08-01T00:00:00",
          "2020-09-01T00:00:00",
          "2020-10-01T00:00:00",
          "2020-11-01T00:00:00",
          "2020-12-01T00:00:00",
          "2021-01-01T00:00:00",
          "2021-02-01T00:00:00",
          "2021-03-01T00:00:00",
          "2021-04-01T00:00:00",
          "2021-05-01T00:00:00",
          "2021-06-01T00:00:00",
          "2021-07-01T00:00:00",
          "2021-08-01T00:00:00",
          "2021-09-01T00:00:00",
          "2021-10-01T00:00:00",
          "2021-11-01T00:00:00",
          "2021-12-01T00:00:00",
          "2022-01-01T00:00:00",
          "2022-02-01T00:00:00",
          "2022-03-01T00:00:00",
          "2022-04-01T00:00:00",
          "2022-05-01T00:00:00",
          "2022-06-01T00:00:00",
          "2022-07-01T00:00:00",
          "2022-08-01T00:00:00",
          "2022-09-01T00:00:00",
          "2022-10-01T00:00:00",
          "2022-11-01T00:00:00",
          "2022-12-01T00:00:00",
          "2023-01-01T00:00:00",
          "2023-02-01T00:00:00",
          "2023-03-01T00:00:00",
          "2023-04-01T00:00:00",
          "2023-05-01T00:00:00",
          "2023-06-01T00:00:00",
          "2023-07-01T00:00:00",
          "2023-08-01T00:00:00",
          "2023-09-01T00:00:00",
          "2023-10-01T00:00:00",
          "2023-11-01T00:00:00",
          "2023-12-01T00:00:00",
          "2024-01-01T00:00:00",
          "2024-02-01T00:00:00",
          "2024-03-01T00:00:00",
          "2024-04-01T00:00:00",
          "2024-05-01T00:00:00",
          "2024-06-01T00:00:00",
          "2024-07-01T00:00:00",
          "2024-08-01T00:00:00",
          "2024-09-01T00:00:00",
          "2024-10-01T00:00:00",
          "2024-11-01T00:00:00",
          "2024-12-01T00:00:00"
         ],
         "y": {
          "bdata": "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",
          "dtype": "f8"
         }
        }
       ],
       "layout": {
        "annotations": [
         {
          "align": "left",
          "showarrow": false,
          "text": "Optimal unemployment rate 3-5%",
          "x": 1.263,
          "xref": "paper",
          "y": 4,
          "yref": "y"
         },
         {
          "arrowhead": 1,
          "ax": 80,
          "ay": 25,
          "text": "FED lowered Interest rate",
          "x": "2008-08",
          "y": 2
         },
         {
          "arrowhead": 1,
          "text": "FED lowered Interest rate",
          "x": "2020",
          "y": 1.58
         },
         {
          "arrowhead": 1,
          "ax": -70,
          "text": "High unemployment rate",
          "x": "2009-01",
          "y": 7.8
         },
         {
          "arrowhead": 1,
          "text": "High unemployment rate",
          "x": "2020-04",
          "y": 14.8
         },
         {
          "showarrow": false,
          "text": "FED lowers interest rate whenever unemployment rate goes above the optimal area",
          "x": 0,
          "xanchor": "left",
          "xref": "paper",
          "y": 1,
          "yanchor": "bottom",
          "yref": "paper"
         }
        ],
        "shapes": [
         {
          "fillcolor": "orange",
          "line": {
           "color": "orange"
          },
          "opacity": 0.5,
          "type": "rect",
          "x0": 0,
          "x1": 1,
          "xref": "x domain",
          "y0": 3,
          "y1": 5,
          "yref": "y"
         }
        ],
        "template": {
         "data": {
          "bar": [
           {
            "error_x": {
             "color": "#2a3f5f"
            },
            "error_y": {
             "color": "#2a3f5f"
            },
            "marker": {
             "line": {
              "color": "#E5ECF6",
              "width": 0.5
             },
             "pattern": {
              "fillmode": "overlay",
              "size": 10,
              "solidity": 0.2
             }
            },
            "type": "bar"
           }
          ],
          "barpolar": [
           {
            "marker": {
             "line": {
              "color": "#E5ECF6",
              "width": 0.5
             },
             "pattern": {
              "fillmode": "overlay",
              "size": 10,
              "solidity": 0.2
             }
            },
            "type": "barpolar"
           }
          ],
          "carpet": [
           {
            "aaxis": {
             "endlinecolor": "#2a3f5f",
             "gridcolor": "white",
             "linecolor": "white",
             "minorgridcolor": "white",
             "startlinecolor": "#2a3f5f"
            },
            "baxis": {
             "endlinecolor": "#2a3f5f",
             "gridcolor": "white",
             "linecolor": "white",
             "minorgridcolor": "white",
             "startlinecolor": "#2a3f5f"
            },
            "type": "carpet"
           }
          ],
          "choropleth": [
           {
            "colorbar": {
             "outlinewidth": 0,
             "ticks": ""
            },
            "type": "choropleth"
           }
          ],
          "contour": [
           {
            "colorbar": {
             "outlinewidth": 0,
             "ticks": ""
            },
            "colorscale": [
             [
              0,
              "#0d0887"
             ],
             [
              0.1111111111111111,
              "#46039f"
             ],
             [
              0.2222222222222222,
              "#7201a8"
             ],
             [
              0.3333333333333333,
              "#9c179e"
             ],
             [
              0.4444444444444444,
              "#bd3786"
             ],
             [
              0.5555555555555556,
              "#d8576b"
             ],
             [
              0.6666666666666666,
              "#ed7953"
             ],
             [
              0.7777777777777778,
              "#fb9f3a"
             ],
             [
              0.8888888888888888,
              "#fdca26"
             ],
             [
              1,
              "#f0f921"
             ]
            ],
            "type": "contour"
           }
          ],
          "contourcarpet": [
           {
            "colorbar": {
             "outlinewidth": 0,
             "ticks": ""
            },
            "type": "contourcarpet"
           }
          ],
          "heatmap": [
           {
            "colorbar": {
             "outlinewidth": 0,
             "ticks": ""
            },
            "colorscale": [
             [
              0,
              "#0d0887"
             ],
             [
              0.1111111111111111,
              "#46039f"
             ],
             [
              0.2222222222222222,
              "#7201a8"
             ],
             [
              0.3333333333333333,
              "#9c179e"
             ],
             [
              0.4444444444444444,
              "#bd3786"
             ],
             [
              0.5555555555555556,
              "#d8576b"
             ],
             [
              0.6666666666666666,
              "#ed7953"
             ],
             [
              0.7777777777777778,
              "#fb9f3a"
             ],
             [
              0.8888888888888888,
              "#fdca26"
             ],
             [
              1,
              "#f0f921"
             ]
            ],
            "type": "heatmap"
           }
          ],
          "histogram": [
           {
            "marker": {
             "pattern": {
              "fillmode": "overlay",
              "size": 10,
              "solidity": 0.2
             }
            },
            "type": "histogram"
           }
          ],
          "histogram2d": [
           {
            "colorbar": {
             "outlinewidth": 0,
             "ticks": ""
            },
            "colorscale": [
             [
              0,
              "#0d0887"
             ],
             [
              0.1111111111111111,
              "#46039f"
             ],
             [
              0.2222222222222222,
              "#7201a8"
             ],
             [
              0.3333333333333333,
              "#9c179e"
             ],
             [
              0.4444444444444444,
              "#bd3786"
             ],
             [
              0.5555555555555556,
              "#d8576b"
             ],
             [
              0.6666666666666666,
              "#ed7953"
             ],
             [
              0.7777777777777778,
              "#fb9f3a"
             ],
             [
              0.8888888888888888,
              "#fdca26"
             ],
             [
              1,
              "#f0f921"
             ]
            ],
            "type": "histogram2d"
           }
          ],
          "histogram2dcontour": [
           {
            "colorbar": {
             "outlinewidth": 0,
             "ticks": ""
            },
            "colorscale": [
             [
              0,
              "#0d0887"
             ],
             [
              0.1111111111111111,
              "#46039f"
             ],
             [
              0.2222222222222222,
              "#7201a8"
             ],
             [
              0.3333333333333333,
              "#9c179e"
             ],
             [
              0.4444444444444444,
              "#bd3786"
             ],
             [
              0.5555555555555556,
              "#d8576b"
             ],
             [
              0.6666666666666666,
              "#ed7953"
             ],
             [
              0.7777777777777778,
              "#fb9f3a"
             ],
             [
              0.8888888888888888,
              "#fdca26"
             ],
             [
              1,
              "#f0f921"
             ]
            ],
            "type": "histogram2dcontour"
           }
          ],
          "mesh3d": [
           {
            "colorbar": {
             "outlinewidth": 0,
             "ticks": ""
            },
            "type": "mesh3d"
           }
          ],
          "parcoords": [
           {
            "line": {
             "colorbar": {
              "outlinewidth": 0,
              "ticks": ""
             }
            },
            "type": "parcoords"
           }
          ],
          "pie": [
           {
            "automargin": true,
            "type": "pie"
           }
          ],
          "scatter": [
           {
            "fillpattern": {
             "fillmode": "overlay",
             "size": 10,
             "solidity": 0.2
            },
            "type": "scatter"
           }
          ],
          "scatter3d": [
           {
            "line": {
             "colorbar": {
              "outlinewidth": 0,
              "ticks": ""
             }
            },
            "marker": {
             "colorbar": {
              "outlinewidth": 0,
              "ticks": ""
             }
            },
            "type": "scatter3d"
           }
          ],
          "scattercarpet": [
           {
            "marker": {
             "colorbar": {
              "outlinewidth": 0,
              "ticks": ""
             }
            },
            "type": "scattercarpet"
           }
          ],
          "scattergeo": [
           {
            "marker": {
             "colorbar": {
              "outlinewidth": 0,
              "ticks": ""
             }
            },
            "type": "scattergeo"
           }
          ],
          "scattergl": [
           {
            "marker": {
             "colorbar": {
              "outlinewidth": 0,
              "ticks": ""
             }
            },
            "type": "scattergl"
           }
          ],
          "scattermap": [
           {
            "marker": {
             "colorbar": {
              "outlinewidth": 0,
              "ticks": ""
             }
            },
            "type": "scattermap"
           }
          ],
          "scattermapbox": [
           {
            "marker": {
             "colorbar": {
              "outlinewidth": 0,
              "ticks": ""
             }
            },
            "type": "scattermapbox"
           }
          ],
          "scatterpolar": [
           {
            "marker": {
             "colorbar": {
              "outlinewidth": 0,
              "ticks": ""
             }
            },
            "type": "scatterpolar"
           }
          ],
          "scatterpolargl": [
           {
            "marker": {
             "colorbar": {
              "outlinewidth": 0,
              "ticks": ""
             }
            },
            "type": "scatterpolargl"
           }
          ],
          "scatterternary": [
           {
            "marker": {
             "colorbar": {
              "outlinewidth": 0,
              "ticks": ""
             }
            },
            "type": "scatterternary"
           }
          ],
          "surface": [
           {
            "colorbar": {
             "outlinewidth": 0,
             "ticks": ""
            },
            "colorscale": [
             [
              0,
              "#0d0887"
             ],
             [
              0.1111111111111111,
              "#46039f"
             ],
             [
              0.2222222222222222,
              "#7201a8"
             ],
             [
              0.3333333333333333,
              "#9c179e"
             ],
             [
              0.4444444444444444,
              "#bd3786"
             ],
             [
              0.5555555555555556,
              "#d8576b"
             ],
             [
              0.6666666666666666,
              "#ed7953"
             ],
             [
              0.7777777777777778,
              "#fb9f3a"
             ],
             [
              0.8888888888888888,
              "#fdca26"
             ],
             [
              1,
              "#f0f921"
             ]
            ],
            "type": "surface"
           }
          ],
          "table": [
           {
            "cells": {
             "fill": {
              "color": "#EBF0F8"
             },
             "line": {
              "color": "white"
             }
            },
            "header": {
             "fill": {
              "color": "#C8D4E3"
             },
             "line": {
              "color": "white"
             }
            },
            "type": "table"
           }
          ]
         },
         "layout": {
          "annotationdefaults": {
           "arrowcolor": "#2a3f5f",
           "arrowhead": 0,
           "arrowwidth": 1
          },
          "autotypenumbers": "strict",
          "coloraxis": {
           "colorbar": {
            "outlinewidth": 0,
            "ticks": ""
           }
          },
          "colorscale": {
           "diverging": [
            [
             0,
             "#8e0152"
            ],
            [
             0.1,
             "#c51b7d"
            ],
            [
             0.2,
             "#de77ae"
            ],
            [
             0.3,
             "#f1b6da"
            ],
            [
             0.4,
             "#fde0ef"
            ],
            [
             0.5,
             "#f7f7f7"
            ],
            [
             0.6,
             "#e6f5d0"
            ],
            [
             0.7,
             "#b8e186"
            ],
            [
             0.8,
             "#7fbc41"
            ],
            [
             0.9,
             "#4d9221"
            ],
            [
             1,
             "#276419"
            ]
           ],
           "sequential": [
            [
             0,
             "#0d0887"
            ],
            [
             0.1111111111111111,
             "#46039f"
            ],
            [
             0.2222222222222222,
             "#7201a8"
            ],
            [
             0.3333333333333333,
             "#9c179e"
            ],
            [
             0.4444444444444444,
             "#bd3786"
            ],
            [
             0.5555555555555556,
             "#d8576b"
            ],
            [
             0.6666666666666666,
             "#ed7953"
            ],
            [
             0.7777777777777778,
             "#fb9f3a"
            ],
            [
             0.8888888888888888,
             "#fdca26"
            ],
            [
             1,
             "#f0f921"
            ]
           ],
           "sequentialminus": [
            [
             0,
             "#0d0887"
            ],
            [
             0.1111111111111111,
             "#46039f"
            ],
            [
             0.2222222222222222,
             "#7201a8"
            ],
            [
             0.3333333333333333,
             "#9c179e"
            ],
            [
             0.4444444444444444,
             "#bd3786"
            ],
            [
             0.5555555555555556,
             "#d8576b"
            ],
            [
             0.6666666666666666,
             "#ed7953"
            ],
            [
             0.7777777777777778,
             "#fb9f3a"
            ],
            [
             0.8888888888888888,
             "#fdca26"
            ],
            [
             1,
             "#f0f921"
            ]
           ]
          },
          "colorway": [
           "#636efa",
           "#EF553B",
           "#00cc96",
           "#ab63fa",
           "#FFA15A",
           "#19d3f3",
           "#FF6692",
           "#B6E880",
           "#FF97FF",
           "#FECB52"
          ],
          "font": {
           "color": "#2a3f5f"
          },
          "geo": {
           "bgcolor": "white",
           "lakecolor": "white",
           "landcolor": "#E5ECF6",
           "showlakes": true,
           "showland": true,
           "subunitcolor": "white"
          },
          "hoverlabel": {
           "align": "left"
          },
          "hovermode": "closest",
          "mapbox": {
           "style": "light"
          },
          "paper_bgcolor": "white",
          "plot_bgcolor": "#E5ECF6",
          "polar": {
           "angularaxis": {
            "gridcolor": "white",
            "linecolor": "white",
            "ticks": ""
           },
           "bgcolor": "#E5ECF6",
           "radialaxis": {
            "gridcolor": "white",
            "linecolor": "white",
            "ticks": ""
           }
          },
          "scene": {
           "xaxis": {
            "backgroundcolor": "#E5ECF6",
            "gridcolor": "white",
            "gridwidth": 2,
            "linecolor": "white",
            "showbackground": true,
            "ticks": "",
            "zerolinecolor": "white"
           },
           "yaxis": {
            "backgroundcolor": "#E5ECF6",
            "gridcolor": "white",
            "gridwidth": 2,
            "linecolor": "white",
            "showbackground": true,
            "ticks": "",
            "zerolinecolor": "white"
           },
           "zaxis": {
            "backgroundcolor": "#E5ECF6",
            "gridcolor": "white",
            "gridwidth": 2,
            "linecolor": "white",
            "showbackground": true,
            "ticks": "",
            "zerolinecolor": "white"
           }
          },
          "shapedefaults": {
           "line": {
            "color": "#2a3f5f"
           }
          },
          "ternary": {
           "aaxis": {
            "gridcolor": "white",
            "linecolor": "white",
            "ticks": ""
           },
           "baxis": {
            "gridcolor": "white",
            "linecolor": "white",
            "ticks": ""
           },
           "bgcolor": "#E5ECF6",
           "caxis": {
            "gridcolor": "white",
            "linecolor": "white",
            "ticks": ""
           }
          },
          "title": {
           "x": 0.05
          },
          "xaxis": {
           "automargin": true,
           "gridcolor": "white",
           "linecolor": "white",
           "ticks": "",
           "title": {
            "standoff": 15
           },
           "zerolinecolor": "white",
           "zerolinewidth": 2
          },
          "yaxis": {
           "automargin": true,
           "gridcolor": "white",
           "linecolor": "white",
           "ticks": "",
           "title": {
            "standoff": 15
           },
           "zerolinecolor": "white",
           "zerolinewidth": 2
          }
         }
        },
        "title": {
         "text": "FED's responses to the economic crises (Unemployment rate)"
        },
        "width": 1000,
        "yaxis": {
         "title": {
          "text": "Unemployment and Fed Interest Rate"
         }
        }
       }
      }
     },
     "metadata": {},
     "output_type": "display_data"
    }
   ],
   "source": [
    "fig = go.Figure()\n",
    "fig.add_trace(go.Scatter(x=df_filtered['date'],\n",
    "                         y=df_filtered['unemply_rate'],\n",
    "                         mode='lines',\n",
    "                         name='Unemployment Rate',\n",
    "                         line=dict(color='green')))\n",
    "\n",
    "fig.add_trace(go.Scatter(x=df_filtered['date'],\n",
    "                         y=df_filtered['FED_rate'],\n",
    "                         mode='lines',\n",
    "                         name='FED Rate'))\n",
    "\n",
    "fig.update_layout(width=1000,\n",
    "    title=\"FED's responses to the economic crises (Unemployment rate)\",\n",
    "    yaxis=dict(title=\"Unemployment and Fed Interest Rate\")\n",
    ")\n",
    "fig.add_hrect(y0=3,\n",
    "                  y1=5,\n",
    "                  fillcolor='orange',\n",
    "                  line_color='orange',\n",
    "                  opacity=0.5)\n",
    "fig.add_annotation(\n",
    "    x=1.263,\n",
    "    y=4,\n",
    "    xref='paper',\n",
    "    yref='y',\n",
    "    text='Optimal unemployment rate 3-5%',\n",
    "    showarrow=False,\n",
    "    align='left'\n",
    ")\n",
    "#Arrow 1\n",
    "fig.add_annotation(\n",
    "    x='2008-08', y=2,\n",
    "    text='FED lowered Interest rate',\n",
    "    arrowhead=1,\n",
    "    ax=80,\n",
    "    ay=25\n",
    ")\n",
    "\n",
    "#Arrow 2\n",
    "fig.add_annotation(\n",
    "    x='2020', y=1.58,\n",
    "    text='FED lowered Interest rate',\n",
    "    arrowhead=1\n",
    ")\n",
    "\n",
    "#Arrow 3\n",
    "fig.add_annotation(\n",
    "    x='2009-01', y=7.8,\n",
    "    text='High unemployment rate',\n",
    "    arrowhead=1,\n",
    "    ax=-70\n",
    ")\n",
    "\n",
    "#Arrow 4\n",
    "fig.add_annotation(\n",
    "    x='2020-04', y=14.8,\n",
    "    text='High unemployment rate',\n",
    "    arrowhead=1\n",
    ")\n",
    "\n",
    "fig.add_annotation(\n",
    "    text='FED lowers interest rate whenever unemployment rate goes above the optimal area',\n",
    "    x=0, y=1,\n",
    "    xref='paper',\n",
    "    yref='paper',\n",
    "    showarrow=False,\n",
    "    xanchor='left',\n",
    "    yanchor='bottom'\n",
    ")\n",
    "\n",
    "fig.show()"
   ]
  },
  {
   "cell_type": "code",
   "execution_count": 11,
   "id": "aae4ce75",
   "metadata": {},
   "outputs": [
    {
     "data": {
      "image/png": "[encoded data removed]",
      "text/plain": [
       "<IPython.core.display.Image object>"
      ]
     },
     "execution_count": 11,
     "metadata": {},
     "output_type": "execute_result"
    }
   ],
   "source": [
    "Image(\"fig2.png\")"
   ]
  },
  {
   "cell_type": "markdown",
   "id": "669d6507",
   "metadata": {},
   "source": [
    "Figure 2: FED interest rate vs unemployment rate"
   ]
  },
  {
   "cell_type": "code",
   "execution_count": 12,
   "id": "a730a1fe",
   "metadata": {},
   "outputs": [
    {
     "data": {
      "application/vnd.plotly.v1+json": {
       "config": {
        "plotlyServerURL": "https://plot.ly"
       },
       "data": [
        {
         "mode": "lines",
         "name": "yearly change of CPI",
         "type": "scatter",
         "x": [
          "1999-01-01T00:00:00",
          "1999-02-01T00:00:00",
          "1999-03-01T00:00:00",
          "1999-04-01T00:00:00",
          "1999-05-01T00:00:00",
          "1999-06-01T00:00:00",
          "1999-07-01T00:00:00",
          "1999-08-01T00:00:00",
          "1999-09-01T00:00:00",
          "1999-10-01T00:00:00",
          "1999-11-01T00:00:00",
          "1999-12-01T00:00:00",
          "2000-01-01T00:00:00",
          "2000-02-01T00:00:00",
          "2000-03-01T00:00:00",
          "2000-04-01T00:00:00",
          "2000-05-01T00:00:00",
          "2000-06-01T00:00:00",
          "2000-07-01T00:00:00",
          "2000-08-01T00:00:00",
          "2000-09-01T00:00:00",
          "2000-10-01T00:00:00",
          "2000-11-01T00:00:00",
          "2000-12-01T00:00:00",
          "2001-01-01T00:00:00",
          "2001-02-01T00:00:00",
          "2001-03-01T00:00:00",
          "2001-04-01T00:00:00",
          "2001-05-01T00:00:00",
          "2001-06-01T00:00:00",
          "2001-07-01T00:00:00",
          "2001-08-01T00:00:00",
          "2001-09-01T00:00:00",
          "2001-10-01T00:00:00",
          "2001-11-01T00:00:00",
          "2001-12-01T00:00:00",
          "2002-01-01T00:00:00",
          "2002-02-01T00:00:00",
          "2002-03-01T00:00:00",
          "2002-04-01T00:00:00",
          "2002-05-01T00:00:00",
          "2002-06-01T00:00:00",
          "2002-07-01T00:00:00",
          "2002-08-01T00:00:00",
          "2002-09-01T00:00:00",
          "2002-10-01T00:00:00",
          "2002-11-01T00:00:00",
          "2002-12-01T00:00:00",
          "2003-01-01T00:00:00",
          "2003-02-01T00:00:00",
          "2003-03-01T00:00:00",
          "2003-04-01T00:00:00",
          "2003-05-01T00:00:00",
          "2003-06-01T00:00:00",
          "2003-07-01T00:00:00",
          "2003-08-01T00:00:00",
          "2003-09-01T00:00:00",
          "2003-10-01T00:00:00",
          "2003-11-01T00:00:00",
          "2003-12-01T00:00:00",
          "2004-01-01T00:00:00",
          "2004-02-01T00:00:00",
          "2004-03-01T00:00:00",
          "2004-04-01T00:00:00",
          "2004-05-01T00:00:00",
          "2004-06-01T00:00:00",
          "2004-07-01T00:00:00",
          "2004-08-01T00:00:00",
          "2004-09-01T00:00:00",
          "2004-10-01T00:00:00",
          "2004-11-01T00:00:00",
          "2004-12-01T00:00:00",
          "2005-01-01T00:00:00",
          "2005-02-01T00:00:00",
          "2005-03-01T00:00:00",
          "2005-04-01T00:00:00",
          "2005-05-01T00:00:00",
          "2005-06-01T00:00:00",
          "2005-07-01T00:00:00",
          "2005-08-01T00:00:00",
          "2005-09-01T00:00:00",
          "2005-10-01T00:00:00",
          "2005-11-01T00:00:00",
          "2005-12-01T00:00:00",
          "2006-01-01T00:00:00",
          "2006-02-01T00:00:00",
          "2006-03-01T00:00:00",
          "2006-04-01T00:00:00",
          "2006-05-01T00:00:00",
          "2006-06-01T00:00:00",
          "2006-07-01T00:00:00",
          "2006-08-01T00:00:00",
          "2006-09-01T00:00:00",
          "2006-10-01T00:00:00",
          "2006-11-01T00:00:00",
          "2006-12-01T00:00:00",
          "2007-01-01T00:00:00",
          "2007-02-01T00:00:00",
          "2007-03-01T00:00:00",
          "2007-04-01T00:00:00",
          "2007-05-01T00:00:00",
          "2007-06-01T00:00:00",
          "2007-07-01T00:00:00",
          "2007-08-01T00:00:00",
          "2007-09-01T00:00:00",
          "2007-10-01T00:00:00",
          "2007-11-01T00:00:00",
          "2007-12-01T00:00:00",
          "2009-01-01T00:00:00",
          "2009-02-01T00:00:00",
          "2009-03-01T00:00:00",
          "2009-04-01T00:00:00",
          "2009-05-01T00:00:00",
          "2009-06-01T00:00:00",
          "2009-07-01T00:00:00",
          "2009-08-01T00:00:00",
          "2009-09-01T00:00:00",
          "2009-10-01T00:00:00",
          "2009-11-01T00:00:00",
          "2009-12-01T00:00:00",
          "2010-01-01T00:00:00",
          "2010-02-01T00:00:00",
          "2010-03-01T00:00:00",
          "2010-04-01T00:00:00",
          "2010-05-01T00:00:00",
          "2010-06-01T00:00:00",
          "2010-07-01T00:00:00",
          "2010-08-01T00:00:00",
          "2010-09-01T00:00:00",
          "2010-10-01T00:00:00",
          "2010-11-01T00:00:00",
          "2010-12-01T00:00:00",
          "2011-01-01T00:00:00",
          "2011-02-01T00:00:00",
          "2011-03-01T00:00:00",
          "2011-04-01T00:00:00",
          "2011-05-01T00:00:00",
          "2011-06-01T00:00:00",
          "2011-07-01T00:00:00",
          "2011-08-01T00:00:00",
          "2011-09-01T00:00:00",
          "2011-10-01T00:00:00",
          "2011-11-01T00:00:00",
          "2011-12-01T00:00:00",
          "2012-01-01T00:00:00",
          "2012-02-01T00:00:00",
          "2012-03-01T00:00:00",
          "2012-04-01T00:00:00",
          "2012-05-01T00:00:00",
          "2012-06-01T00:00:00",
          "2012-07-01T00:00:00",
          "2012-08-01T00:00:00",
          "2012-09-01T00:00:00",
          "2012-10-01T00:00:00",
          "2012-11-01T00:00:00",
          "2012-12-01T00:00:00",
          "2013-01-01T00:00:00",
          "2013-02-01T00:00:00",
          "2013-03-01T00:00:00",
          "2013-04-01T00:00:00",
          "2013-05-01T00:00:00",
          "2013-06-01T00:00:00",
          "2013-07-01T00:00:00",
          "2013-08-01T00:00:00",
          "2013-09-01T00:00:00",
          "2013-10-01T00:00:00",
          "2013-11-01T00:00:00",
          "2013-12-01T00:00:00",
          "2014-01-01T00:00:00",
          "2014-02-01T00:00:00",
          "2014-03-01T00:00:00",
          "2014-04-01T00:00:00",
          "2014-05-01T00:00:00",
          "2014-06-01T00:00:00",
          "2014-07-01T00:00:00",
          "2014-08-01T00:00:00",
          "2014-09-01T00:00:00",
          "2014-10-01T00:00:00",
          "2014-11-01T00:00:00",
          "2014-12-01T00:00:00",
          "2015-01-01T00:00:00",
          "2015-02-01T00:00:00",
          "2015-03-01T00:00:00",
          "2015-04-01T00:00:00",
          "2015-05-01T00:00:00",
          "2015-06-01T00:00:00",
          "2015-07-01T00:00:00",
          "2015-08-01T00:00:00",
          "2015-09-01T00:00:00",
          "2015-10-01T00:00:00",
          "2015-11-01T00:00:00",
          "2015-12-01T00:00:00",
          "2016-01-01T00:00:00",
          "2016-02-01T00:00:00",
          "2016-03-01T00:00:00",
          "2016-04-01T00:00:00",
          "2016-05-01T00:00:00",
          "2016-06-01T00:00:00",
          "2016-07-01T00:00:00",
          "2016-08-01T00:00:00",
          "2016-09-01T00:00:00",
          "2016-10-01T00:00:00",
          "2016-11-01T00:00:00",
          "2016-12-01T00:00:00",
          "2017-01-01T00:00:00",
          "2017-02-01T00:00:00",
          "2017-03-01T00:00:00",
          "2017-04-01T00:00:00",
          "2017-05-01T00:00:00",
          "2017-06-01T00:00:00",
          "2017-07-01T00:00:00",
          "2017-08-01T00:00:00",
          "2017-09-01T00:00:00",
          "2017-10-01T00:00:00",
          "2017-11-01T00:00:00",
          "2017-12-01T00:00:00",
          "2018-01-01T00:00:00",
          "2018-02-01T00:00:00",
          "2018-03-01T00:00:00",
          "2018-04-01T00:00:00",
          "2018-05-01T00:00:00",
          "2018-06-01T00:00:00",
          "2018-07-01T00:00:00",
          "2018-08-01T00:00:00",
          "2018-09-01T00:00:00",
          "2018-10-01T00:00:00",
          "2018-11-01T00:00:00",
          "2018-12-01T00:00:00",
          "2019-01-01T00:00:00",
          "2019-02-01T00:00:00",
          "2019-03-01T00:00:00",
          "2019-04-01T00:00:00",
          "2019-05-01T00:00:00",
          "2019-06-01T00:00:00",
          "2019-07-01T00:00:00",
          "2019-08-01T00:00:00",
          "2019-09-01T00:00:00",
          "2019-10-01T00:00:00",
          "2019-11-01T00:00:00",
          "2019-12-01T00:00:00",
          "2020-01-01T00:00:00",
          "2020-02-01T00:00:00",
          "2020-03-01T00:00:00",
          "2020-04-01T00:00:00",
          "2020-05-01T00:00:00",
          "2020-06-01T00:00:00",
          "2020-07-01T00:00:00",
          "2020-08-01T00:00:00",
          "2020-09-01T00:00:00",
          "2020-10-01T00:00:00",
          "2020-11-01T00:00:00",
          "2020-12-01T00:00:00",
          "2021-01-01T00:00:00",
          "2021-02-01T00:00:00",
          "2021-03-01T00:00:00",
          "2021-04-01T00:00:00",
          "2021-05-01T00:00:00",
          "2021-06-01T00:00:00",
          "2021-07-01T00:00:00",
          "2021-08-01T00:00:00",
          "2021-09-01T00:00:00",
          "2021-10-01T00:00:00",
          "2021-11-01T00:00:00",
          "2021-12-01T00:00:00",
          "2022-01-01T00:00:00",
          "2022-02-01T00:00:00",
          "2022-03-01T00:00:00",
          "2022-04-01T00:00:00",
          "2022-05-01T00:00:00",
          "2022-06-01T00:00:00",
          "2022-07-01T00:00:00",
          "2022-08-01T00:00:00",
          "2022-09-01T00:00:00",
          "2022-10-01T00:00:00",
          "2022-11-01T00:00:00",
          "2022-12-01T00:00:00",
          "2023-01-01T00:00:00",
          "2023-02-01T00:00:00",
          "2023-03-01T00:00:00",
          "2023-04-01T00:00:00",
          "2023-05-01T00:00:00",
          "2023-06-01T00:00:00",
          "2023-07-01T00:00:00",
          "2023-08-01T00:00:00",
          "2023-09-01T00:00:00",
          "2023-10-01T00:00:00",
          "2023-11-01T00:00:00",
          "2023-12-01T00:00:00",
          "2024-01-01T00:00:00",
          "2024-02-01T00:00:00",
          "2024-03-01T00:00:00",
          "2024-04-01T00:00:00",
          "2024-05-01T00:00:00",
          "2024-06-01T00:00:00",
          "2024-07-01T00:00:00",
          "2024-08-01T00:00:00",
          "2024-09-01T00:00:00",
          "2024-10-01T00:00:00",
          "2024-11-01T00:00:00",
          "2024-12-01T00:00:00"
         ],
         "y": {
          "bdata": "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",
          "dtype": "f8"
         }
        },
        {
         "mode": "lines",
         "name": "FED Rate",
         "type": "scatter",
         "x": [
          "1999-01-01T00:00:00",
          "1999-02-01T00:00:00",
          "1999-03-01T00:00:00",
          "1999-04-01T00:00:00",
          "1999-05-01T00:00:00",
          "1999-06-01T00:00:00",
          "1999-07-01T00:00:00",
          "1999-08-01T00:00:00",
          "1999-09-01T00:00:00",
          "1999-10-01T00:00:00",
          "1999-11-01T00:00:00",
          "1999-12-01T00:00:00",
          "2000-01-01T00:00:00",
          "2000-02-01T00:00:00",
          "2000-03-01T00:00:00",
          "2000-04-01T00:00:00",
          "2000-05-01T00:00:00",
          "2000-06-01T00:00:00",
          "2000-07-01T00:00:00",
          "2000-08-01T00:00:00",
          "2000-09-01T00:00:00",
          "2000-10-01T00:00:00",
          "2000-11-01T00:00:00",
          "2000-12-01T00:00:00",
          "2001-01-01T00:00:00",
          "2001-02-01T00:00:00",
          "2001-03-01T00:00:00",
          "2001-04-01T00:00:00",
          "2001-05-01T00:00:00",
          "2001-06-01T00:00:00",
          "2001-07-01T00:00:00",
          "2001-08-01T00:00:00",
          "2001-09-01T00:00:00",
          "2001-10-01T00:00:00",
          "2001-11-01T00:00:00",
          "2001-12-01T00:00:00",
          "2002-01-01T00:00:00",
          "2002-02-01T00:00:00",
          "2002-03-01T00:00:00",
          "2002-04-01T00:00:00",
          "2002-05-01T00:00:00",
          "2002-06-01T00:00:00",
          "2002-07-01T00:00:00",
          "2002-08-01T00:00:00",
          "2002-09-01T00:00:00",
          "2002-10-01T00:00:00",
          "2002-11-01T00:00:00",
          "2002-12-01T00:00:00",
          "2003-01-01T00:00:00",
          "2003-02-01T00:00:00",
          "2003-03-01T00:00:00",
          "2003-04-01T00:00:00",
          "2003-05-01T00:00:00",
          "2003-06-01T00:00:00",
          "2003-07-01T00:00:00",
          "2003-08-01T00:00:00",
          "2003-09-01T00:00:00",
          "2003-10-01T00:00:00",
          "2003-11-01T00:00:00",
          "2003-12-01T00:00:00",
          "2004-01-01T00:00:00",
          "2004-02-01T00:00:00",
          "2004-03-01T00:00:00",
          "2004-04-01T00:00:00",
          "2004-05-01T00:00:00",
          "2004-06-01T00:00:00",
          "2004-07-01T00:00:00",
          "2004-08-01T00:00:00",
          "2004-09-01T00:00:00",
          "2004-10-01T00:00:00",
          "2004-11-01T00:00:00",
          "2004-12-01T00:00:00",
          "2005-01-01T00:00:00",
          "2005-02-01T00:00:00",
          "2005-03-01T00:00:00",
          "2005-04-01T00:00:00",
          "2005-05-01T00:00:00",
          "2005-06-01T00:00:00",
          "2005-07-01T00:00:00",
          "2005-08-01T00:00:00",
          "2005-09-01T00:00:00",
          "2005-10-01T00:00:00",
          "2005-11-01T00:00:00",
          "2005-12-01T00:00:00",
          "2006-01-01T00:00:00",
          "2006-02-01T00:00:00",
          "2006-03-01T00:00:00",
          "2006-04-01T00:00:00",
          "2006-05-01T00:00:00",
          "2006-06-01T00:00:00",
          "2006-07-01T00:00:00",
          "2006-08-01T00:00:00",
          "2006-09-01T00:00:00",
          "2006-10-01T00:00:00",
          "2006-11-01T00:00:00",
          "2006-12-01T00:00:00",
          "2007-01-01T00:00:00",
          "2007-02-01T00:00:00",
          "2007-03-01T00:00:00",
          "2007-04-01T00:00:00",
          "2007-05-01T00:00:00",
          "2007-06-01T00:00:00",
          "2007-07-01T00:00:00",
          "2007-08-01T00:00:00",
          "2007-09-01T00:00:00",
          "2007-10-01T00:00:00",
          "2007-11-01T00:00:00",
          "2007-12-01T00:00:00",
          "2009-01-01T00:00:00",
          "2009-02-01T00:00:00",
          "2009-03-01T00:00:00",
          "2009-04-01T00:00:00",
          "2009-05-01T00:00:00",
          "2009-06-01T00:00:00",
          "2009-07-01T00:00:00",
          "2009-08-01T00:00:00",
          "2009-09-01T00:00:00",
          "2009-10-01T00:00:00",
          "2009-11-01T00:00:00",
          "2009-12-01T00:00:00",
          "2010-01-01T00:00:00",
          "2010-02-01T00:00:00",
          "2010-03-01T00:00:00",
          "2010-04-01T00:00:00",
          "2010-05-01T00:00:00",
          "2010-06-01T00:00:00",
          "2010-07-01T00:00:00",
          "2010-08-01T00:00:00",
          "2010-09-01T00:00:00",
          "2010-10-01T00:00:00",
          "2010-11-01T00:00:00",
          "2010-12-01T00:00:00",
          "2011-01-01T00:00:00",
          "2011-02-01T00:00:00",
          "2011-03-01T00:00:00",
          "2011-04-01T00:00:00",
          "2011-05-01T00:00:00",
          "2011-06-01T00:00:00",
          "2011-07-01T00:00:00",
          "2011-08-01T00:00:00",
          "2011-09-01T00:00:00",
          "2011-10-01T00:00:00",
          "2011-11-01T00:00:00",
          "2011-12-01T00:00:00",
          "2012-01-01T00:00:00",
          "2012-02-01T00:00:00",
          "2012-03-01T00:00:00",
          "2012-04-01T00:00:00",
          "2012-05-01T00:00:00",
          "2012-06-01T00:00:00",
          "2012-07-01T00:00:00",
          "2012-08-01T00:00:00",
          "2012-09-01T00:00:00",
          "2012-10-01T00:00:00",
          "2012-11-01T00:00:00",
          "2012-12-01T00:00:00",
          "2013-01-01T00:00:00",
          "2013-02-01T00:00:00",
          "2013-03-01T00:00:00",
          "2013-04-01T00:00:00",
          "2013-05-01T00:00:00",
          "2013-06-01T00:00:00",
          "2013-07-01T00:00:00",
          "2013-08-01T00:00:00",
          "2013-09-01T00:00:00",
          "2013-10-01T00:00:00",
          "2013-11-01T00:00:00",
          "2013-12-01T00:00:00",
          "2014-01-01T00:00:00",
          "2014-02-01T00:00:00",
          "2014-03-01T00:00:00",
          "2014-04-01T00:00:00",
          "2014-05-01T00:00:00",
          "2014-06-01T00:00:00",
          "2014-07-01T00:00:00",
          "2014-08-01T00:00:00",
          "2014-09-01T00:00:00",
          "2014-10-01T00:00:00",
          "2014-11-01T00:00:00",
          "2014-12-01T00:00:00",
          "2015-01-01T00:00:00",
          "2015-02-01T00:00:00",
          "2015-03-01T00:00:00",
          "2015-04-01T00:00:00",
          "2015-05-01T00:00:00",
          "2015-06-01T00:00:00",
          "2015-07-01T00:00:00",
          "2015-08-01T00:00:00",
          "2015-09-01T00:00:00",
          "2015-10-01T00:00:00",
          "2015-11-01T00:00:00",
          "2015-12-01T00:00:00",
          "2016-01-01T00:00:00",
          "2016-02-01T00:00:00",
          "2016-03-01T00:00:00",
          "2016-04-01T00:00:00",
          "2016-05-01T00:00:00",
          "2016-06-01T00:00:00",
          "2016-07-01T00:00:00",
          "2016-08-01T00:00:00",
          "2016-09-01T00:00:00",
          "2016-10-01T00:00:00",
          "2016-11-01T00:00:00",
          "2016-12-01T00:00:00",
          "2017-01-01T00:00:00",
          "2017-02-01T00:00:00",
          "2017-03-01T00:00:00",
          "2017-04-01T00:00:00",
          "2017-05-01T00:00:00",
          "2017-06-01T00:00:00",
          "2017-07-01T00:00:00",
          "2017-08-01T00:00:00",
          "2017-09-01T00:00:00",
          "2017-10-01T00:00:00",
          "2017-11-01T00:00:00",
          "2017-12-01T00:00:00",
          "2018-01-01T00:00:00",
          "2018-02-01T00:00:00",
          "2018-03-01T00:00:00",
          "2018-04-01T00:00:00",
          "2018-05-01T00:00:00",
          "2018-06-01T00:00:00",
          "2018-07-01T00:00:00",
          "2018-08-01T00:00:00",
          "2018-09-01T00:00:00",
          "2018-10-01T00:00:00",
          "2018-11-01T00:00:00",
          "2018-12-01T00:00:00",
          "2019-01-01T00:00:00",
          "2019-02-01T00:00:00",
          "2019-03-01T00:00:00",
          "2019-04-01T00:00:00",
          "2019-05-01T00:00:00",
          "2019-06-01T00:00:00",
          "2019-07-01T00:00:00",
          "2019-08-01T00:00:00",
          "2019-09-01T00:00:00",
          "2019-10-01T00:00:00",
          "2019-11-01T00:00:00",
          "2019-12-01T00:00:00",
          "2020-01-01T00:00:00",
          "2020-02-01T00:00:00",
          "2020-03-01T00:00:00",
          "2020-04-01T00:00:00",
          "2020-05-01T00:00:00",
          "2020-06-01T00:00:00",
          "2020-07-01T00:00:00",
          "2020-08-01T00:00:00",
          "2020-09-01T00:00:00",
          "2020-10-01T00:00:00",
          "2020-11-01T00:00:00",
          "2020-12-01T00:00:00",
          "2021-01-01T00:00:00",
          "2021-02-01T00:00:00",
          "2021-03-01T00:00:00",
          "2021-04-01T00:00:00",
          "2021-05-01T00:00:00",
          "2021-06-01T00:00:00",
          "2021-07-01T00:00:00",
          "2021-08-01T00:00:00",
          "2021-09-01T00:00:00",
          "2021-10-01T00:00:00",
          "2021-11-01T00:00:00",
          "2021-12-01T00:00:00",
          "2022-01-01T00:00:00",
          "2022-02-01T00:00:00",
          "2022-03-01T00:00:00",
          "2022-04-01T00:00:00",
          "2022-05-01T00:00:00",
          "2022-06-01T00:00:00",
          "2022-07-01T00:00:00",
          "2022-08-01T00:00:00",
          "2022-09-01T00:00:00",
          "2022-10-01T00:00:00",
          "2022-11-01T00:00:00",
          "2022-12-01T00:00:00",
          "2023-01-01T00:00:00",
          "2023-02-01T00:00:00",
          "2023-03-01T00:00:00",
          "2023-04-01T00:00:00",
          "2023-05-01T00:00:00",
          "2023-06-01T00:00:00",
          "2023-07-01T00:00:00",
          "2023-08-01T00:00:00",
          "2023-09-01T00:00:00",
          "2023-10-01T00:00:00",
          "2023-11-01T00:00:00",
          "2023-12-01T00:00:00",
          "2024-01-01T00:00:00",
          "2024-02-01T00:00:00",
          "2024-03-01T00:00:00",
          "2024-04-01T00:00:00",
          "2024-05-01T00:00:00",
          "2024-06-01T00:00:00",
          "2024-07-01T00:00:00",
          "2024-08-01T00:00:00",
          "2024-09-01T00:00:00",
          "2024-10-01T00:00:00",
          "2024-11-01T00:00:00",
          "2024-12-01T00:00:00"
         ],
         "y": {
          "bdata": "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",
          "dtype": "f8"
         }
        }
       ],
       "layout": {
        "annotations": [
         {
          "align": "left",
          "showarrow": false,
          "text": "Optimal inflation rate 2%",
          "x": 1.2,
          "xref": "paper",
          "y": 2,
          "yref": "y"
         },
         {
          "arrowhead": 1,
          "ax": 20,
          "ay": -130,
          "text": "FED lowered Interest rate to combat umemployment",
          "x": "2008-05",
          "y": 3.6
         },
         {
          "arrowhead": 1,
          "ax": -160,
          "ay": 110,
          "text": "FED increased interest rate to control inflation",
          "x": "2023-03",
          "y": 5.06
         },
         {
          "showarrow": false,
          "text": "FED only increases interest rate when inflation deviates from the optimal rate",
          "x": 0,
          "xanchor": "left",
          "xref": "paper",
          "y": 1,
          "yanchor": "bottom",
          "yref": "paper"
         },
         {
          "arrowhead": 1,
          "ax": -100,
          "text": "High Inflation rate during COVID19",
          "x": "2021-12",
          "y": 5.45
         }
        ],
        "shapes": [
         {
          "line": {
           "dash": "dot"
          },
          "type": "line",
          "x0": 0,
          "x1": 1,
          "xref": "x domain",
          "y0": 2,
          "y1": 2,
          "yref": "y"
         }
        ],
        "template": {
         "data": {
          "bar": [
           {
            "error_x": {
             "color": "#2a3f5f"
            },
            "error_y": {
             "color": "#2a3f5f"
            },
            "marker": {
             "line": {
              "color": "#E5ECF6",
              "width": 0.5
             },
             "pattern": {
              "fillmode": "overlay",
              "size": 10,
              "solidity": 0.2
             }
            },
            "type": "bar"
           }
          ],
          "barpolar": [
           {
            "marker": {
             "line": {
              "color": "#E5ECF6",
              "width": 0.5
             },
             "pattern": {
              "fillmode": "overlay",
              "size": 10,
              "solidity": 0.2
             }
            },
            "type": "barpolar"
           }
          ],
          "carpet": [
           {
            "aaxis": {
             "endlinecolor": "#2a3f5f",
             "gridcolor": "white",
             "linecolor": "white",
             "minorgridcolor": "white",
             "startlinecolor": "#2a3f5f"
            },
            "baxis": {
             "endlinecolor": "#2a3f5f",
             "gridcolor": "white",
             "linecolor": "white",
             "minorgridcolor": "white",
             "startlinecolor": "#2a3f5f"
            },
            "type": "carpet"
           }
          ],
          "choropleth": [
           {
            "colorbar": {
             "outlinewidth": 0,
             "ticks": ""
            },
            "type": "choropleth"
           }
          ],
          "contour": [
           {
            "colorbar": {
             "outlinewidth": 0,
             "ticks": ""
            },
            "colorscale": [
             [
              0,
              "#0d0887"
             ],
             [
              0.1111111111111111,
              "#46039f"
             ],
             [
              0.2222222222222222,
              "#7201a8"
             ],
             [
              0.3333333333333333,
              "#9c179e"
             ],
             [
              0.4444444444444444,
              "#bd3786"
             ],
             [
              0.5555555555555556,
              "#d8576b"
             ],
             [
              0.6666666666666666,
              "#ed7953"
             ],
             [
              0.7777777777777778,
              "#fb9f3a"
             ],
             [
              0.8888888888888888,
              "#fdca26"
             ],
             [
              1,
              "#f0f921"
             ]
            ],
            "type": "contour"
           }
          ],
          "contourcarpet": [
           {
            "colorbar": {
             "outlinewidth": 0,
             "ticks": ""
            },
            "type": "contourcarpet"
           }
          ],
          "heatmap": [
           {
            "colorbar": {
             "outlinewidth": 0,
             "ticks": ""
            },
            "colorscale": [
             [
              0,
              "#0d0887"
             ],
             [
              0.1111111111111111,
              "#46039f"
             ],
             [
              0.2222222222222222,
              "#7201a8"
             ],
             [
              0.3333333333333333,
              "#9c179e"
             ],
             [
              0.4444444444444444,
              "#bd3786"
             ],
             [
              0.5555555555555556,
              "#d8576b"
             ],
             [
              0.6666666666666666,
              "#ed7953"
             ],
             [
              0.7777777777777778,
              "#fb9f3a"
             ],
             [
              0.8888888888888888,
              "#fdca26"
             ],
             [
              1,
              "#f0f921"
             ]
            ],
            "type": "heatmap"
           }
          ],
          "histogram": [
           {
            "marker": {
             "pattern": {
              "fillmode": "overlay",
              "size": 10,
              "solidity": 0.2
             }
            },
            "type": "histogram"
           }
          ],
          "histogram2d": [
           {
            "colorbar": {
             "outlinewidth": 0,
             "ticks": ""
            },
            "colorscale": [
             [
              0,
              "#0d0887"
             ],
             [
              0.1111111111111111,
              "#46039f"
             ],
             [
              0.2222222222222222,
              "#7201a8"
             ],
             [
              0.3333333333333333,
              "#9c179e"
             ],
             [
              0.4444444444444444,
              "#bd3786"
             ],
             [
              0.5555555555555556,
              "#d8576b"
             ],
             [
              0.6666666666666666,
              "#ed7953"
             ],
             [
              0.7777777777777778,
              "#fb9f3a"
             ],
             [
              0.8888888888888888,
              "#fdca26"
             ],
             [
              1,
              "#f0f921"
             ]
            ],
            "type": "histogram2d"
           }
          ],
          "histogram2dcontour": [
           {
            "colorbar": {
             "outlinewidth": 0,
             "ticks": ""
            },
            "colorscale": [
             [
              0,
              "#0d0887"
             ],
             [
              0.1111111111111111,
              "#46039f"
             ],
             [
              0.2222222222222222,
              "#7201a8"
             ],
             [
              0.3333333333333333,
              "#9c179e"
             ],
             [
              0.4444444444444444,
              "#bd3786"
             ],
             [
              0.5555555555555556,
              "#d8576b"
             ],
             [
              0.6666666666666666,
              "#ed7953"
             ],
             [
              0.7777777777777778,
              "#fb9f3a"
             ],
             [
              0.8888888888888888,
              "#fdca26"
             ],
             [
              1,
              "#f0f921"
             ]
            ],
            "type": "histogram2dcontour"
           }
          ],
          "mesh3d": [
           {
            "colorbar": {
             "outlinewidth": 0,
             "ticks": ""
            },
            "type": "mesh3d"
           }
          ],
          "parcoords": [
           {
            "line": {
             "colorbar": {
              "outlinewidth": 0,
              "ticks": ""
             }
            },
            "type": "parcoords"
           }
          ],
          "pie": [
           {
            "automargin": true,
            "type": "pie"
           }
          ],
          "scatter": [
           {
            "fillpattern": {
             "fillmode": "overlay",
             "size": 10,
             "solidity": 0.2
            },
            "type": "scatter"
           }
          ],
          "scatter3d": [
           {
            "line": {
             "colorbar": {
              "outlinewidth": 0,
              "ticks": ""
             }
            },
            "marker": {
             "colorbar": {
              "outlinewidth": 0,
              "ticks": ""
             }
            },
            "type": "scatter3d"
           }
          ],
          "scattercarpet": [
           {
            "marker": {
             "colorbar": {
              "outlinewidth": 0,
              "ticks": ""
             }
            },
            "type": "scattercarpet"
           }
          ],
          "scattergeo": [
           {
            "marker": {
             "colorbar": {
              "outlinewidth": 0,
              "ticks": ""
             }
            },
            "type": "scattergeo"
           }
          ],
          "scattergl": [
           {
            "marker": {
             "colorbar": {
              "outlinewidth": 0,
              "ticks": ""
             }
            },
            "type": "scattergl"
           }
          ],
          "scattermap": [
           {
            "marker": {
             "colorbar": {
              "outlinewidth": 0,
              "ticks": ""
             }
            },
            "type": "scattermap"
           }
          ],
          "scattermapbox": [
           {
            "marker": {
             "colorbar": {
              "outlinewidth": 0,
              "ticks": ""
             }
            },
            "type": "scattermapbox"
           }
          ],
          "scatterpolar": [
           {
            "marker": {
             "colorbar": {
              "outlinewidth": 0,
              "ticks": ""
             }
            },
            "type": "scatterpolar"
           }
          ],
          "scatterpolargl": [
           {
            "marker": {
             "colorbar": {
              "outlinewidth": 0,
              "ticks": ""
             }
            },
            "type": "scatterpolargl"
           }
          ],
          "scatterternary": [
           {
            "marker": {
             "colorbar": {
              "outlinewidth": 0,
              "ticks": ""
             }
            },
            "type": "scatterternary"
           }
          ],
          "surface": [
           {
            "colorbar": {
             "outlinewidth": 0,
             "ticks": ""
            },
            "colorscale": [
             [
              0,
              "#0d0887"
             ],
             [
              0.1111111111111111,
              "#46039f"
             ],
             [
              0.2222222222222222,
              "#7201a8"
             ],
             [
              0.3333333333333333,
              "#9c179e"
             ],
             [
              0.4444444444444444,
              "#bd3786"
             ],
             [
              0.5555555555555556,
              "#d8576b"
             ],
             [
              0.6666666666666666,
              "#ed7953"
             ],
             [
              0.7777777777777778,
              "#fb9f3a"
             ],
             [
              0.8888888888888888,
              "#fdca26"
             ],
             [
              1,
              "#f0f921"
             ]
            ],
            "type": "surface"
           }
          ],
          "table": [
           {
            "cells": {
             "fill": {
              "color": "#EBF0F8"
             },
             "line": {
              "color": "white"
             }
            },
            "header": {
             "fill": {
              "color": "#C8D4E3"
             },
             "line": {
              "color": "white"
             }
            },
            "type": "table"
           }
          ]
         },
         "layout": {
          "annotationdefaults": {
           "arrowcolor": "#2a3f5f",
           "arrowhead": 0,
           "arrowwidth": 1
          },
          "autotypenumbers": "strict",
          "coloraxis": {
           "colorbar": {
            "outlinewidth": 0,
            "ticks": ""
           }
          },
          "colorscale": {
           "diverging": [
            [
             0,
             "#8e0152"
            ],
            [
             0.1,
             "#c51b7d"
            ],
            [
             0.2,
             "#de77ae"
            ],
            [
             0.3,
             "#f1b6da"
            ],
            [
             0.4,
             "#fde0ef"
            ],
            [
             0.5,
             "#f7f7f7"
            ],
            [
             0.6,
             "#e6f5d0"
            ],
            [
             0.7,
             "#b8e186"
            ],
            [
             0.8,
             "#7fbc41"
            ],
            [
             0.9,
             "#4d9221"
            ],
            [
             1,
             "#276419"
            ]
           ],
           "sequential": [
            [
             0,
             "#0d0887"
            ],
            [
             0.1111111111111111,
             "#46039f"
            ],
            [
             0.2222222222222222,
             "#7201a8"
            ],
            [
             0.3333333333333333,
             "#9c179e"
            ],
            [
             0.4444444444444444,
             "#bd3786"
            ],
            [
             0.5555555555555556,
             "#d8576b"
            ],
            [
             0.6666666666666666,
             "#ed7953"
            ],
            [
             0.7777777777777778,
             "#fb9f3a"
            ],
            [
             0.8888888888888888,
             "#fdca26"
            ],
            [
             1,
             "#f0f921"
            ]
           ],
           "sequentialminus": [
            [
             0,
             "#0d0887"
            ],
            [
             0.1111111111111111,
             "#46039f"
            ],
            [
             0.2222222222222222,
             "#7201a8"
            ],
            [
             0.3333333333333333,
             "#9c179e"
            ],
            [
             0.4444444444444444,
             "#bd3786"
            ],
            [
             0.5555555555555556,
             "#d8576b"
            ],
            [
             0.6666666666666666,
             "#ed7953"
            ],
            [
             0.7777777777777778,
             "#fb9f3a"
            ],
            [
             0.8888888888888888,
             "#fdca26"
            ],
            [
             1,
             "#f0f921"
            ]
           ]
          },
          "colorway": [
           "#636efa",
           "#EF553B",
           "#00cc96",
           "#ab63fa",
           "#FFA15A",
           "#19d3f3",
           "#FF6692",
           "#B6E880",
           "#FF97FF",
           "#FECB52"
          ],
          "font": {
           "color": "#2a3f5f"
          },
          "geo": {
           "bgcolor": "white",
           "lakecolor": "white",
           "landcolor": "#E5ECF6",
           "showlakes": true,
           "showland": true,
           "subunitcolor": "white"
          },
          "hoverlabel": {
           "align": "left"
          },
          "hovermode": "closest",
          "mapbox": {
           "style": "light"
          },
          "paper_bgcolor": "white",
          "plot_bgcolor": "#E5ECF6",
          "polar": {
           "angularaxis": {
            "gridcolor": "white",
            "linecolor": "white",
            "ticks": ""
           },
           "bgcolor": "#E5ECF6",
           "radialaxis": {
            "gridcolor": "white",
            "linecolor": "white",
            "ticks": ""
           }
          },
          "scene": {
           "xaxis": {
            "backgroundcolor": "#E5ECF6",
            "gridcolor": "white",
            "gridwidth": 2,
            "linecolor": "white",
            "showbackground": true,
            "ticks": "",
            "zerolinecolor": "white"
           },
           "yaxis": {
            "backgroundcolor": "#E5ECF6",
            "gridcolor": "white",
            "gridwidth": 2,
            "linecolor": "white",
            "showbackground": true,
            "ticks": "",
            "zerolinecolor": "white"
           },
           "zaxis": {
            "backgroundcolor": "#E5ECF6",
            "gridcolor": "white",
            "gridwidth": 2,
            "linecolor": "white",
            "showbackground": true,
            "ticks": "",
            "zerolinecolor": "white"
           }
          },
          "shapedefaults": {
           "line": {
            "color": "#2a3f5f"
           }
          },
          "ternary": {
           "aaxis": {
            "gridcolor": "white",
            "linecolor": "white",
            "ticks": ""
           },
           "baxis": {
            "gridcolor": "white",
            "linecolor": "white",
            "ticks": ""
           },
           "bgcolor": "#E5ECF6",
           "caxis": {
            "gridcolor": "white",
            "linecolor": "white",
            "ticks": ""
           }
          },
          "title": {
           "x": 0.05
          },
          "xaxis": {
           "automargin": true,
           "gridcolor": "white",
           "linecolor": "white",
           "ticks": "",
           "title": {
            "standoff": 15
           },
           "zerolinecolor": "white",
           "zerolinewidth": 2
          },
          "yaxis": {
           "automargin": true,
           "gridcolor": "white",
           "linecolor": "white",
           "ticks": "",
           "title": {
            "standoff": 15
           },
           "zerolinecolor": "white",
           "zerolinewidth": 2
          }
         }
        },
        "title": {
         "text": "FED's responses to the economic crises (Inflation-Yearly CPI)"
        },
        "width": 1000,
        "xaxis": {
         "dtick": "M12",
         "tickangle": 30,
         "tickformat": "%Y"
        },
        "yaxis": {
         "title": {
          "text": "Yearly inflation rate and Fed Interest Rate"
         }
        }
       }
      }
     },
     "metadata": {},
     "output_type": "display_data"
    }
   ],
   "source": [
    "fig = go.Figure()\n",
    "fig.add_trace(go.Scatter(x=df_filtered['date'],\n",
    "                         y=df_filtered['yearly_cpi_changes'],\n",
    "                         mode='lines',\n",
    "                         name='yearly change of CPI'))\n",
    "\n",
    "fig.add_trace(go.Scatter(x=df_filtered['date'],\n",
    "                         y=df_filtered['FED_rate'],\n",
    "                         mode='lines',\n",
    "                         name='FED Rate'))\n",
    "\n",
    "fig.update_layout(width=1000,\n",
    "    title=\"FED's responses to the economic crises (Inflation-Yearly CPI)\",\n",
    "    yaxis=dict(title=\"Yearly inflation rate and Fed Interest Rate\")\n",
    ")\n",
    "fig.add_hline(y=2,\n",
    "              line_dash='dot')\n",
    "fig.add_annotation(\n",
    "    x=1.2,\n",
    "    y=2,\n",
    "    xref='paper',\n",
    "    yref='y',\n",
    "    text='Optimal inflation rate 2%',\n",
    "    showarrow=False,\n",
    "    align='left'\n",
    ")\n",
    "fig.update_xaxes(\n",
    "    dtick='M12',\n",
    "    tickformat='%Y',\n",
    "    tickangle=30)\n",
    "\n",
    "fig.add_annotation(\n",
    "    x='2008-05', y=3.6,\n",
    "    text='FED lowered Interest rate to combat umemployment',\n",
    "    arrowhead=1,\n",
    "    ax=20,\n",
    "    ay=-130\n",
    ")\n",
    "\n",
    "fig.add_annotation(\n",
    "    x='2023-03', y=5.06,\n",
    "    text='FED increased interest rate to control inflation',\n",
    "    arrowhead=1,\n",
    "    ax=-160,\n",
    "    ay=110\n",
    ")\n",
    "\n",
    "fig.add_annotation(\n",
    "    x=0, y=1,\n",
    "    xref='paper',\n",
    "    yref='paper',\n",
    "    showarrow=False,\n",
    "    text='FED only increases interest rate when inflation deviates from the optimal rate',\n",
    "    xanchor='left',\n",
    "    yanchor='bottom'\n",
    ")\n",
    "\n",
    "fig.add_annotation(\n",
    "    x='2021-12', y=5.45,\n",
    "    text='High Inflation rate during COVID19',\n",
    "    arrowhead=1,\n",
    "    ax=-100)\n",
    "\n",
    "fig.show()\n",
    "\n",
    "\n"
   ]
  },
  {
   "cell_type": "code",
   "execution_count": 13,
   "id": "03064fe5",
   "metadata": {},
   "outputs": [
    {
     "data": {
      "image/png": "[encoded data removed]",
      "text/plain": [
       "<IPython.core.display.Image object>"
      ]
     },
     "execution_count": 13,
     "metadata": {},
     "output_type": "execute_result"
    }
   ],
   "source": [
    "Image(\"fig3.png\")"
   ]
  },
  {
   "cell_type": "markdown",
   "id": "0569a92f",
   "metadata": {},
   "source": [
    "Figure 3: FED interest rate vs inflation rate (Yearly CPI changes)"
   ]
  },
  {
   "cell_type": "code",
   "execution_count": 14,
   "id": "415ad297",
   "metadata": {},
   "outputs": [
    {
     "data": {
      "application/vnd.plotly.v1+json": {
       "config": {
        "plotlyServerURL": "https://plot.ly"
       },
       "data": [
        {
         "coloraxis": "coloraxis",
         "hovertemplate": "x: %{x}<br>y: %{y}<br>color: %{z}<extra></extra>",
         "name": "0",
         "texttemplate": "%{z}",
         "type": "heatmap",
         "x": [
          "FED_rate",
          "yearly_cpi_changes",
          "unemply_rate"
         ],
         "xaxis": "x",
         "y": [
          "FED_rate",
          "yearly_cpi_changes",
          "unemply_rate"
         ],
         "yaxis": "y",
         "z": {
          "bdata": "AAAAAAAA8D9uA4ox5wjPP+cLjtr2PuO/bgOKMecIzz8AAAAAAADwP5joImgpyda/5wuO2vY+47+Y6CJoKcnWvwAAAAAAAPA/",
          "dtype": "f8",
          "shape": "3, 3"
         }
        }
       ],
       "layout": {
        "annotations": [
         {
          "arrowhead": 3,
          "ax": 80,
          "ay": 60,
          "showarrow": true,
          "text": "<b>High unemployment rate</b> will make FED to <b>lower interest rate</b>",
          "x": 0.2,
          "xref": "paper",
          "y": 0,
          "yref": "paper"
         },
         {
          "font": {
           "color": "red",
           "family": "Arial Black",
           "size": 12
          },
          "showarrow": false,
          "text": "Strong negative link",
          "x": 0,
          "y": 2.18
         }
        ],
        "coloraxis": {
         "cmax": 1,
         "cmin": -1,
         "colorscale": [
          [
           0,
           "rgb(23, 28, 66)"
          ],
          [
           0.09090909090909091,
           "rgb(41, 58, 143)"
          ],
          [
           0.18181818181818182,
           "rgb(11, 102, 189)"
          ],
          [
           0.2727272727272727,
           "rgb(69, 144, 185)"
          ],
          [
           0.36363636363636365,
           "rgb(142, 181, 194)"
          ],
          [
           0.45454545454545453,
           "rgb(210, 216, 219)"
          ],
          [
           0.5454545454545454,
           "rgb(230, 210, 204)"
          ],
          [
           0.6363636363636364,
           "rgb(213, 157, 137)"
          ],
          [
           0.7272727272727273,
           "rgb(196, 101, 72)"
          ],
          [
           0.8181818181818182,
           "rgb(172, 43, 36)"
          ],
          [
           0.9090909090909091,
           "rgb(120, 14, 40)"
          ],
          [
           1,
           "rgb(60, 9, 17)"
          ]
         ]
        },
        "margin": {
         "t": 60
        },
        "shapes": [
         {
          "fillcolor": "rgba(0,0,0,0)",
          "line": {
           "color": "red",
           "width": 3
          },
          "type": "rect",
          "x0": -0.5,
          "x1": 0.5,
          "y0": 1.5,
          "y1": 2.5
         }
        ],
        "template": {
         "data": {
          "bar": [
           {
            "error_x": {
             "color": "#2a3f5f"
            },
            "error_y": {
             "color": "#2a3f5f"
            },
            "marker": {
             "line": {
              "color": "#E5ECF6",
              "width": 0.5
             },
             "pattern": {
              "fillmode": "overlay",
              "size": 10,
              "solidity": 0.2
             }
            },
            "type": "bar"
           }
          ],
          "barpolar": [
           {
            "marker": {
             "line": {
              "color": "#E5ECF6",
              "width": 0.5
             },
             "pattern": {
              "fillmode": "overlay",
              "size": 10,
              "solidity": 0.2
             }
            },
            "type": "barpolar"
           }
          ],
          "carpet": [
           {
            "aaxis": {
             "endlinecolor": "#2a3f5f",
             "gridcolor": "white",
             "linecolor": "white",
             "minorgridcolor": "white",
             "startlinecolor": "#2a3f5f"
            },
            "baxis": {
             "endlinecolor": "#2a3f5f",
             "gridcolor": "white",
             "linecolor": "white",
             "minorgridcolor": "white",
             "startlinecolor": "#2a3f5f"
            },
            "type": "carpet"
           }
          ],
          "choropleth": [
           {
            "colorbar": {
             "outlinewidth": 0,
             "ticks": ""
            },
            "type": "choropleth"
           }
          ],
          "contour": [
           {
            "colorbar": {
             "outlinewidth": 0,
             "ticks": ""
            },
            "colorscale": [
             [
              0,
              "#0d0887"
             ],
             [
              0.1111111111111111,
              "#46039f"
             ],
             [
              0.2222222222222222,
              "#7201a8"
             ],
             [
              0.3333333333333333,
              "#9c179e"
             ],
             [
              0.4444444444444444,
              "#bd3786"
             ],
             [
              0.5555555555555556,
              "#d8576b"
             ],
             [
              0.6666666666666666,
              "#ed7953"
             ],
             [
              0.7777777777777778,
              "#fb9f3a"
             ],
             [
              0.8888888888888888,
              "#fdca26"
             ],
             [
              1,
              "#f0f921"
             ]
            ],
            "type": "contour"
           }
          ],
          "contourcarpet": [
           {
            "colorbar": {
             "outlinewidth": 0,
             "ticks": ""
            },
            "type": "contourcarpet"
           }
          ],
          "heatmap": [
           {
            "colorbar": {
             "outlinewidth": 0,
             "ticks": ""
            },
            "colorscale": [
             [
              0,
              "#0d0887"
             ],
             [
              0.1111111111111111,
              "#46039f"
             ],
             [
              0.2222222222222222,
              "#7201a8"
             ],
             [
              0.3333333333333333,
              "#9c179e"
             ],
             [
              0.4444444444444444,
              "#bd3786"
             ],
             [
              0.5555555555555556,
              "#d8576b"
             ],
             [
              0.6666666666666666,
              "#ed7953"
             ],
             [
              0.7777777777777778,
              "#fb9f3a"
             ],
             [
              0.8888888888888888,
              "#fdca26"
             ],
             [
              1,
              "#f0f921"
             ]
            ],
            "type": "heatmap"
           }
          ],
          "histogram": [
           {
            "marker": {
             "pattern": {
              "fillmode": "overlay",
              "size": 10,
              "solidity": 0.2
             }
            },
            "type": "histogram"
           }
          ],
          "histogram2d": [
           {
            "colorbar": {
             "outlinewidth": 0,
             "ticks": ""
            },
            "colorscale": [
             [
              0,
              "#0d0887"
             ],
             [
              0.1111111111111111,
              "#46039f"
             ],
             [
              0.2222222222222222,
              "#7201a8"
             ],
             [
              0.3333333333333333,
              "#9c179e"
             ],
             [
              0.4444444444444444,
              "#bd3786"
             ],
             [
              0.5555555555555556,
              "#d8576b"
             ],
             [
              0.6666666666666666,
              "#ed7953"
             ],
             [
              0.7777777777777778,
              "#fb9f3a"
             ],
             [
              0.8888888888888888,
              "#fdca26"
             ],
             [
              1,
              "#f0f921"
             ]
            ],
            "type": "histogram2d"
           }
          ],
          "histogram2dcontour": [
           {
            "colorbar": {
             "outlinewidth": 0,
             "ticks": ""
            },
            "colorscale": [
             [
              0,
              "#0d0887"
             ],
             [
              0.1111111111111111,
              "#46039f"
             ],
             [
              0.2222222222222222,
              "#7201a8"
             ],
             [
              0.3333333333333333,
              "#9c179e"
             ],
             [
              0.4444444444444444,
              "#bd3786"
             ],
             [
              0.5555555555555556,
              "#d8576b"
             ],
             [
              0.6666666666666666,
              "#ed7953"
             ],
             [
              0.7777777777777778,
              "#fb9f3a"
             ],
             [
              0.8888888888888888,
              "#fdca26"
             ],
             [
              1,
              "#f0f921"
             ]
            ],
            "type": "histogram2dcontour"
           }
          ],
          "mesh3d": [
           {
            "colorbar": {
             "outlinewidth": 0,
             "ticks": ""
            },
            "type": "mesh3d"
           }
          ],
          "parcoords": [
           {
            "line": {
             "colorbar": {
              "outlinewidth": 0,
              "ticks": ""
             }
            },
            "type": "parcoords"
           }
          ],
          "pie": [
           {
            "automargin": true,
            "type": "pie"
           }
          ],
          "scatter": [
           {
            "fillpattern": {
             "fillmode": "overlay",
             "size": 10,
             "solidity": 0.2
            },
            "type": "scatter"
           }
          ],
          "scatter3d": [
           {
            "line": {
             "colorbar": {
              "outlinewidth": 0,
              "ticks": ""
             }
            },
            "marker": {
             "colorbar": {
              "outlinewidth": 0,
              "ticks": ""
             }
            },
            "type": "scatter3d"
           }
          ],
          "scattercarpet": [
           {
            "marker": {
             "colorbar": {
              "outlinewidth": 0,
              "ticks": ""
             }
            },
            "type": "scattercarpet"
           }
          ],
          "scattergeo": [
           {
            "marker": {
             "colorbar": {
              "outlinewidth": 0,
              "ticks": ""
             }
            },
            "type": "scattergeo"
           }
          ],
          "scattergl": [
           {
            "marker": {
             "colorbar": {
              "outlinewidth": 0,
              "ticks": ""
             }
            },
            "type": "scattergl"
           }
          ],
          "scattermap": [
           {
            "marker": {
             "colorbar": {
              "outlinewidth": 0,
              "ticks": ""
             }
            },
            "type": "scattermap"
           }
          ],
          "scattermapbox": [
           {
            "marker": {
             "colorbar": {
              "outlinewidth": 0,
              "ticks": ""
             }
            },
            "type": "scattermapbox"
           }
          ],
          "scatterpolar": [
           {
            "marker": {
             "colorbar": {
              "outlinewidth": 0,
              "ticks": ""
             }
            },
            "type": "scatterpolar"
           }
          ],
          "scatterpolargl": [
           {
            "marker": {
             "colorbar": {
              "outlinewidth": 0,
              "ticks": ""
             }
            },
            "type": "scatterpolargl"
           }
          ],
          "scatterternary": [
           {
            "marker": {
             "colorbar": {
              "outlinewidth": 0,
              "ticks": ""
             }
            },
            "type": "scatterternary"
           }
          ],
          "surface": [
           {
            "colorbar": {
             "outlinewidth": 0,
             "ticks": ""
            },
            "colorscale": [
             [
              0,
              "#0d0887"
             ],
             [
              0.1111111111111111,
              "#46039f"
             ],
             [
              0.2222222222222222,
              "#7201a8"
             ],
             [
              0.3333333333333333,
              "#9c179e"
             ],
             [
              0.4444444444444444,
              "#bd3786"
             ],
             [
              0.5555555555555556,
              "#d8576b"
             ],
             [
              0.6666666666666666,
              "#ed7953"
             ],
             [
              0.7777777777777778,
              "#fb9f3a"
             ],
             [
              0.8888888888888888,
              "#fdca26"
             ],
             [
              1,
              "#f0f921"
             ]
            ],
            "type": "surface"
           }
          ],
          "table": [
           {
            "cells": {
             "fill": {
              "color": "#EBF0F8"
             },
             "line": {
              "color": "white"
             }
            },
            "header": {
             "fill": {
              "color": "#C8D4E3"
             },
             "line": {
              "color": "white"
             }
            },
            "type": "table"
           }
          ]
         },
         "layout": {
          "annotationdefaults": {
           "arrowcolor": "#2a3f5f",
           "arrowhead": 0,
           "arrowwidth": 1
          },
          "autotypenumbers": "strict",
          "coloraxis": {
           "colorbar": {
            "outlinewidth": 0,
            "ticks": ""
           }
          },
          "colorscale": {
           "diverging": [
            [
             0,
             "#8e0152"
            ],
            [
             0.1,
             "#c51b7d"
            ],
            [
             0.2,
             "#de77ae"
            ],
            [
             0.3,
             "#f1b6da"
            ],
            [
             0.4,
             "#fde0ef"
            ],
            [
             0.5,
             "#f7f7f7"
            ],
            [
             0.6,
             "#e6f5d0"
            ],
            [
             0.7,
             "#b8e186"
            ],
            [
             0.8,
             "#7fbc41"
            ],
            [
             0.9,
             "#4d9221"
            ],
            [
             1,
             "#276419"
            ]
           ],
           "sequential": [
            [
             0,
             "#0d0887"
            ],
            [
             0.1111111111111111,
             "#46039f"
            ],
            [
             0.2222222222222222,
             "#7201a8"
            ],
            [
             0.3333333333333333,
             "#9c179e"
            ],
            [
             0.4444444444444444,
             "#bd3786"
            ],
            [
             0.5555555555555556,
             "#d8576b"
            ],
            [
             0.6666666666666666,
             "#ed7953"
            ],
            [
             0.7777777777777778,
             "#fb9f3a"
            ],
            [
             0.8888888888888888,
             "#fdca26"
            ],
            [
             1,
             "#f0f921"
            ]
           ],
           "sequentialminus": [
            [
             0,
             "#0d0887"
            ],
            [
             0.1111111111111111,
             "#46039f"
            ],
            [
             0.2222222222222222,
             "#7201a8"
            ],
            [
             0.3333333333333333,
             "#9c179e"
            ],
            [
             0.4444444444444444,
             "#bd3786"
            ],
            [
             0.5555555555555556,
             "#d8576b"
            ],
            [
             0.6666666666666666,
             "#ed7953"
            ],
            [
             0.7777777777777778,
             "#fb9f3a"
            ],
            [
             0.8888888888888888,
             "#fdca26"
            ],
            [
             1,
             "#f0f921"
            ]
           ]
          },
          "colorway": [
           "#636efa",
           "#EF553B",
           "#00cc96",
           "#ab63fa",
           "#FFA15A",
           "#19d3f3",
           "#FF6692",
           "#B6E880",
           "#FF97FF",
           "#FECB52"
          ],
          "font": {
           "color": "#2a3f5f"
          },
          "geo": {
           "bgcolor": "white",
           "lakecolor": "white",
           "landcolor": "#E5ECF6",
           "showlakes": true,
           "showland": true,
           "subunitcolor": "white"
          },
          "hoverlabel": {
           "align": "left"
          },
          "hovermode": "closest",
          "mapbox": {
           "style": "light"
          },
          "paper_bgcolor": "white",
          "plot_bgcolor": "#E5ECF6",
          "polar": {
           "angularaxis": {
            "gridcolor": "white",
            "linecolor": "white",
            "ticks": ""
           },
           "bgcolor": "#E5ECF6",
           "radialaxis": {
            "gridcolor": "white",
            "linecolor": "white",
            "ticks": ""
           }
          },
          "scene": {
           "xaxis": {
            "backgroundcolor": "#E5ECF6",
            "gridcolor": "white",
            "gridwidth": 2,
            "linecolor": "white",
            "showbackground": true,
            "ticks": "",
            "zerolinecolor": "white"
           },
           "yaxis": {
            "backgroundcolor": "#E5ECF6",
            "gridcolor": "white",
            "gridwidth": 2,
            "linecolor": "white",
            "showbackground": true,
            "ticks": "",
            "zerolinecolor": "white"
           },
           "zaxis": {
            "backgroundcolor": "#E5ECF6",
            "gridcolor": "white",
            "gridwidth": 2,
            "linecolor": "white",
            "showbackground": true,
            "ticks": "",
            "zerolinecolor": "white"
           }
          },
          "shapedefaults": {
           "line": {
            "color": "#2a3f5f"
           }
          },
          "ternary": {
           "aaxis": {
            "gridcolor": "white",
            "linecolor": "white",
            "ticks": ""
           },
           "baxis": {
            "gridcolor": "white",
            "linecolor": "white",
            "ticks": ""
           },
           "bgcolor": "#E5ECF6",
           "caxis": {
            "gridcolor": "white",
            "linecolor": "white",
            "ticks": ""
           }
          },
          "title": {
           "x": 0.05
          },
          "xaxis": {
           "automargin": true,
           "gridcolor": "white",
           "linecolor": "white",
           "ticks": "",
           "title": {
            "standoff": 15
           },
           "zerolinecolor": "white",
           "zerolinewidth": 2
          },
          "yaxis": {
           "automargin": true,
           "gridcolor": "white",
           "linecolor": "white",
           "ticks": "",
           "title": {
            "standoff": 15
           },
           "zerolinecolor": "white",
           "zerolinewidth": 2
          }
         }
        },
        "title": {
         "text": "Correlation plot between FED interest, Inflation, and unemployment rate"
        },
        "width": 700,
        "xaxis": {
         "anchor": "y",
         "domain": [
          0,
          1
         ]
        },
        "yaxis": {
         "anchor": "x",
         "autorange": "reversed",
         "domain": [
          0,
          1
         ]
        }
       }
      }
     },
     "metadata": {},
     "output_type": "display_data"
    }
   ],
   "source": [
    "df_corr = df_filtered[['FED_rate', 'yearly_cpi_changes', 'unemply_rate']].corr()\n",
    "fig = px.imshow(df_corr,\n",
    "          text_auto=True,\n",
    "          color_continuous_scale='balance',\n",
    "          zmin=-1, zmax=1,\n",
    "          aspect=\"auto\"\n",
    ")\n",
    "fig.update_layout(width = 700,\n",
    "                  title='Correlation plot between FED interest, Inflation, and unemployment rate')\n",
    "\n",
    "fig.add_annotation(\n",
    "    x=0.2, y=0,\n",
    "    text='<b>High unemployment rate</b> will make FED to <b>lower interest rate</b>',\n",
    "    showarrow=True,\n",
    "    arrowhead=3,\n",
    "    xref='paper',\n",
    "    yref='paper',\n",
    "    ax=80,\n",
    "    ay=60\n",
    ")\n",
    "\n",
    "fig.add_shape(\n",
    "    type=\"rect\",\n",
    "    x0=0-0.5, x1=0+0.5,  \n",
    "    y0=2-0.5, y1=2+0.5,  \n",
    "    line=dict(color=\"red\", width=3),\n",
    "    fillcolor=\"rgba(0,0,0,0)\" \n",
    ")\n",
    "\n",
    "# Add an annotation for clarity\n",
    "fig.add_annotation(\n",
    "    x=0, y=2.18,\n",
    "    text=\"Strong negative link\",\n",
    "    showarrow=False,\n",
    "    font=dict(color=\"red\", size=12, family=\"Arial Black\")\n",
    ")\n"
   ]
  },
  {
   "cell_type": "markdown",
   "id": "cc88aaef",
   "metadata": {},
   "source": [
    "Figure 4: Correlation plots between the three economic factors. There is a stronger inverse relationship link between unemployment rate and FED interest rate than inflation rate."
   ]
  },
  {
   "cell_type": "code",
   "execution_count": 18,
   "id": "6c12c8f6",
   "metadata": {},
   "outputs": [
    {
     "data": {
      "image/png": "[encoded data removed]",
      "text/plain": [
       "<IPython.core.display.Image object>"
      ]
     },
     "execution_count": 18,
     "metadata": {},
     "output_type": "execute_result"
    }
   ],
   "source": [
    "Image(\"fig5.png\")"
   ]
  },
  {
   "cell_type": "code",
   "execution_count": 20,
   "id": "2705f5dd",
   "metadata": {},
   "outputs": [
    {
     "data": {
      "application/vnd.plotly.v1+json": {
       "config": {
        "plotlyServerURL": "https://plot.ly"
       },
       "data": [
        {
         "boxmean": true,
         "marker": {
          "color": "grey"
         },
         "name": "Inflation Rate",
         "type": "box",
         "xaxis": "x",
         "y": {
          "bdata": "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",
          "dtype": "f8"
         },
         "yaxis": "y"
        },
        {
         "boxmean": true,
         "marker": {
          "color": "grey"
         },
         "name": "Unemployment Rate",
         "type": "box",
         "xaxis": "x2",
         "y": {
          "bdata": "MzMzMzMzEUCamZmZmZkRQM3MzMzMzBBAMzMzMzMzEUDNzMzMzMwQQDMzMzMzMxFAMzMzMzMzEUDNzMzMzMwQQM3MzMzMzBBAZmZmZmZmEEBmZmZmZmYQQAAAAAAAABBAAAAAAAAAEEBmZmZmZmYQQAAAAAAAABBAZmZmZmZmDkAAAAAAAAAQQAAAAAAAABBAAAAAAAAAEEBmZmZmZmYQQDMzMzMzMw9AMzMzMzMzD0AzMzMzMzMPQDMzMzMzMw9AzczMzMzMEEDNzMzMzMwQQDMzMzMzMxFAmpmZmZmZEUAzMzMzMzMRQAAAAAAAABJAZmZmZmZmEkCamZmZmZkTQAAAAAAAABRAMzMzMzMzFUAAAAAAAAAWQM3MzMzMzBZAzczMzMzMFkDNzMzMzMwWQM3MzMzMzBZAmpmZmZmZF0AzMzMzMzMXQDMzMzMzMxdAMzMzMzMzF0DNzMzMzMwWQM3MzMzMzBZAzczMzMzMFkCamZmZmZkXQAAAAAAAABhAMzMzMzMzF0CamZmZmZkXQJqZmZmZmRdAAAAAAAAAGEBmZmZmZmYYQDMzMzMzMxlAzczMzMzMGEBmZmZmZmYYQGZmZmZmZhhAAAAAAAAAGEAzMzMzMzMXQM3MzMzMzBZAzczMzMzMFkBmZmZmZmYWQDMzMzMzMxdAZmZmZmZmFkBmZmZmZmYWQGZmZmZmZhZAAAAAAAAAFkCamZmZmZkVQJqZmZmZmRVAAAAAAAAAFkCamZmZmZkVQJqZmZmZmRVAMzMzMzMzFUCamZmZmZkVQM3MzMzMzBRAzczMzMzMFEBmZmZmZmYUQAAAAAAAABRAAAAAAAAAFECamZmZmZkTQAAAAAAAABRAAAAAAAAAFEAAAAAAAAAUQJqZmZmZmRNAzczMzMzMEkAzMzMzMzMTQM3MzMzMzBJAzczMzMzMEkBmZmZmZmYSQGZmZmZmZhJAzczMzMzMEkDNzMzMzMwSQAAAAAAAABJAmpmZmZmZEUAAAAAAAAASQJqZmZmZmRFAZmZmZmZmEkAAAAAAAAASQJqZmZmZmRFAAAAAAAAAEkCamZmZmZkRQGZmZmZmZhJAzczMzMzMEkBmZmZmZmYSQM3MzMzMzBJAzczMzMzMEkDNzMzMzMwSQAAAAAAAABRAMzMzMzMzH0CamZmZmZkgQGZmZmZmZiFAAAAAAAAAIkDNzMzMzMwiQAAAAAAAACNAAAAAAAAAI0AzMzMzMzMjQJqZmZmZmSNAAAAAAAAAJEDNzMzMzMwjQM3MzMzMzCNAmpmZmZmZI0CamZmZmZkjQM3MzMzMzCNAzczMzMzMI0AzMzMzMzMjQM3MzMzMzCJAzczMzMzMIkAAAAAAAAAjQAAAAAAAACNAzczMzMzMIkCamZmZmZkjQJqZmZmZmSJAMzMzMzMzIkAAAAAAAAAiQAAAAAAAACJAMzMzMzMzIkAAAAAAAAAiQDMzMzMzMyJAAAAAAAAAIkAAAAAAAAAiQAAAAAAAACJAmpmZmZmZIUAzMzMzMzMhQAAAAAAAACFAmpmZmZmZIECamZmZmZkgQGZmZmZmZiBAZmZmZmZmIEBmZmZmZmYgQGZmZmZmZiBAZmZmZmZmIEAzMzMzMzMgQDMzMzMzMx9AMzMzMzMzH0DNzMzMzMweQJqZmZmZmR9AAAAAAAAAIEDNzMzMzMweQAAAAAAAAB5AZmZmZmZmHkAAAAAAAAAeQAAAAAAAAB5AMzMzMzMzHUDNzMzMzMwcQM3MzMzMzBxAzczMzMzMHECamZmZmZkbQM3MzMzMzBpAZmZmZmZmGkDNzMzMzMwaQM3MzMzMzBpAzczMzMzMGEAzMzMzMzMZQGZmZmZmZhhAzczMzMzMGEBmZmZmZmYYQJqZmZmZmRdAzczMzMzMFkAzMzMzMzMXQGZmZmZmZhZAzczMzMzMFkAAAAAAAAAWQJqZmZmZmRVAmpmZmZmZFUBmZmZmZmYWQDMzMzMzMxVAzczMzMzMFEBmZmZmZmYUQAAAAAAAABRAAAAAAAAAFEBmZmZmZmYUQAAAAAAAABRAMzMzMzMzE0CamZmZmZkTQAAAAAAAABRAZmZmZmZmFEAzMzMzMzMTQJqZmZmZmRNAMzMzMzMzE0CamZmZmZkTQAAAAAAAABRAmpmZmZmZE0DNzMzMzMwSQM3MzMzMzBJAzczMzMzMEkBmZmZmZmYSQJqZmZmZmRFAmpmZmZmZEUCamZmZmZkRQDMzMzMzMxFAMzMzMzMzEUCamZmZmZkRQDMzMzMzMxFAzczMzMzMEEDNzMzMzMwQQGZmZmZmZhBAAAAAAAAAEEBmZmZmZmYQQAAAAAAAABBAAAAAAAAAEEBmZmZmZmYOQAAAAAAAABBAZmZmZmZmDkBmZmZmZmYOQJqZmZmZmQ1AZmZmZmZmDkBmZmZmZmYOQDMzMzMzMw9AAAAAAAAAEEBmZmZmZmYOQGZmZmZmZg5AmpmZmZmZDUDNzMzMzMwMQM3MzMzMzAxAmpmZmZmZDUDNzMzMzMwMQAAAAAAAAAxAzczMzMzMDEDNzMzMzMwMQM3MzMzMzAxAzczMzMzMDEAAAAAAAAAMQJqZmZmZmRFAmpmZmZmZLUBmZmZmZmYqQAAAAAAAACZAZmZmZmZmJEDNzMzMzMwgQDMzMzMzMx9AmpmZmZmZG0DNzMzMzMwaQM3MzMzMzBpAmpmZmZmZGUDNzMzMzMwYQGZmZmZmZhhAZmZmZmZmGEAzMzMzMzMXQJqZmZmZmRdAmpmZmZmZFUBmZmZmZmYUQM3MzMzMzBJAAAAAAAAAEkDNzMzMzMwQQDMzMzMzMw9AAAAAAAAAEEBmZmZmZmYOQJqZmZmZmQ1AmpmZmZmZDUDNzMzMzMwMQM3MzMzMzAxAAAAAAAAADEDNzMzMzMwMQAAAAAAAAAxAzczMzMzMDEDNzMzMzMwMQAAAAAAAAAxAAAAAAAAADEDNzMzMzMwMQAAAAAAAAAxAMzMzMzMzC0DNzMzMzMwMQM3MzMzMzAxAAAAAAAAADECamZmZmZkNQGZmZmZmZg5AMzMzMzMzD0CamZmZmZkNQGZmZmZmZg5AmpmZmZmZDUAzMzMzMzMPQDMzMzMzMw9AMzMzMzMzD0AAAAAAAAAQQGZmZmZmZhBAzczMzMzMEEDNzMzMzMwQQGZmZmZmZhBAZmZmZmZmEEDNzMzMzMwQQGZmZmZmZhBA",
          "dtype": "f8"
         },
         "yaxis": "y2"
        }
       ],
       "layout": {
        "annotations": [
         {
          "font": {
           "size": 16
          },
          "showarrow": false,
          "text": "Yearly CPI Change",
          "x": 0.225,
          "xanchor": "center",
          "xref": "paper",
          "y": 1,
          "yanchor": "bottom",
          "yref": "paper"
         },
         {
          "font": {
           "size": 16
          },
          "showarrow": false,
          "text": "Unemployment Rate",
          "x": 0.775,
          "xanchor": "center",
          "xref": "paper",
          "y": 1,
          "yanchor": "bottom",
          "yref": "paper"
         },
         {
          "arrowhead": 2,
          "ax": 80,
          "ay": -40,
          "showarrow": true,
          "text": "Target Inflation Rate: 2%",
          "x": 0.5,
          "xref": "x domain",
          "y": 2,
          "yref": "y"
         },
         {
          "arrowhead": 2,
          "ax": -80,
          "ay": -40,
          "showarrow": true,
          "text": "Mean Inflation Rate: 2.47%",
          "x": 0.5,
          "xref": "x domain",
          "y": 2.47,
          "yref": "y"
         },
         {
          "arrowhead": 2,
          "ax": 100,
          "ay": -40,
          "showarrow": true,
          "text": "Unemployment Target range: 3-5%",
          "x": 0.9,
          "xref": "x2 domain",
          "y": 4,
          "yref": "y2"
         },
         {
          "font": {
           "color": "black",
           "size": 12
          },
          "showarrow": false,
          "text": "FED controls <b>inflation rate</b> (0.47% from target) better than <b>unemployment rate</b> (0.63% from target range).",
          "x": 0.5,
          "xanchor": "center",
          "xref": "paper",
          "y": -0.1,
          "yanchor": "top",
          "yref": "paper"
         },
         {
          "arrowhead": 2,
          "ax": 100,
          "ay": -40,
          "showarrow": true,
          "text": "Mean Unemployment Rate: 5.63%",
          "x": 0.5,
          "xref": "x2 domain",
          "y": 5.63,
          "yref": "y2"
         }
        ],
        "height": 500,
        "shapes": [
         {
          "line": {
           "color": "red",
           "dash": "dash"
          },
          "type": "line",
          "x0": 0,
          "x1": 1,
          "xref": "x domain",
          "y0": 2,
          "y1": 2,
          "yref": "y"
         },
         {
          "fillcolor": "red",
          "line": {
           "color": "red",
           "dash": "dash"
          },
          "opacity": 0.2,
          "type": "rect",
          "x0": -0.5,
          "x1": 0.5,
          "xref": "x2",
          "y0": 3,
          "y1": 5,
          "yref": "y2"
         }
        ],
        "template": {
         "data": {
          "bar": [
           {
            "error_x": {
             "color": "#2a3f5f"
            },
            "error_y": {
             "color": "#2a3f5f"
            },
            "marker": {
             "line": {
              "color": "#E5ECF6",
              "width": 0.5
             },
             "pattern": {
              "fillmode": "overlay",
              "size": 10,
              "solidity": 0.2
             }
            },
            "type": "bar"
           }
          ],
          "barpolar": [
           {
            "marker": {
             "line": {
              "color": "#E5ECF6",
              "width": 0.5
             },
             "pattern": {
              "fillmode": "overlay",
              "size": 10,
              "solidity": 0.2
             }
            },
            "type": "barpolar"
           }
          ],
          "carpet": [
           {
            "aaxis": {
             "endlinecolor": "#2a3f5f",
             "gridcolor": "white",
             "linecolor": "white",
             "minorgridcolor": "white",
             "startlinecolor": "#2a3f5f"
            },
            "baxis": {
             "endlinecolor": "#2a3f5f",
             "gridcolor": "white",
             "linecolor": "white",
             "minorgridcolor": "white",
             "startlinecolor": "#2a3f5f"
            },
            "type": "carpet"
           }
          ],
          "choropleth": [
           {
            "colorbar": {
             "outlinewidth": 0,
             "ticks": ""
            },
            "type": "choropleth"
           }
          ],
          "contour": [
           {
            "colorbar": {
             "outlinewidth": 0,
             "ticks": ""
            },
            "colorscale": [
             [
              0,
              "#0d0887"
             ],
             [
              0.1111111111111111,
              "#46039f"
             ],
             [
              0.2222222222222222,
              "#7201a8"
             ],
             [
              0.3333333333333333,
              "#9c179e"
             ],
             [
              0.4444444444444444,
              "#bd3786"
             ],
             [
              0.5555555555555556,
              "#d8576b"
             ],
             [
              0.6666666666666666,
              "#ed7953"
             ],
             [
              0.7777777777777778,
              "#fb9f3a"
             ],
             [
              0.8888888888888888,
              "#fdca26"
             ],
             [
              1,
              "#f0f921"
             ]
            ],
            "type": "contour"
           }
          ],
          "contourcarpet": [
           {
            "colorbar": {
             "outlinewidth": 0,
             "ticks": ""
            },
            "type": "contourcarpet"
           }
          ],
          "heatmap": [
           {
            "colorbar": {
             "outlinewidth": 0,
             "ticks": ""
            },
            "colorscale": [
             [
              0,
              "#0d0887"
             ],
             [
              0.1111111111111111,
              "#46039f"
             ],
             [
              0.2222222222222222,
              "#7201a8"
             ],
             [
              0.3333333333333333,
              "#9c179e"
             ],
             [
              0.4444444444444444,
              "#bd3786"
             ],
             [
              0.5555555555555556,
              "#d8576b"
             ],
             [
              0.6666666666666666,
              "#ed7953"
             ],
             [
              0.7777777777777778,
              "#fb9f3a"
             ],
             [
              0.8888888888888888,
              "#fdca26"
             ],
             [
              1,
              "#f0f921"
             ]
            ],
            "type": "heatmap"
           }
          ],
          "histogram": [
           {
            "marker": {
             "pattern": {
              "fillmode": "overlay",
              "size": 10,
              "solidity": 0.2
             }
            },
            "type": "histogram"
           }
          ],
          "histogram2d": [
           {
            "colorbar": {
             "outlinewidth": 0,
             "ticks": ""
            },
            "colorscale": [
             [
              0,
              "#0d0887"
             ],
             [
              0.1111111111111111,
              "#46039f"
             ],
             [
              0.2222222222222222,
              "#7201a8"
             ],
             [
              0.3333333333333333,
              "#9c179e"
             ],
             [
              0.4444444444444444,
              "#bd3786"
             ],
             [
              0.5555555555555556,
              "#d8576b"
             ],
             [
              0.6666666666666666,
              "#ed7953"
             ],
             [
              0.7777777777777778,
              "#fb9f3a"
             ],
             [
              0.8888888888888888,
              "#fdca26"
             ],
             [
              1,
              "#f0f921"
             ]
            ],
            "type": "histogram2d"
           }
          ],
          "histogram2dcontour": [
           {
            "colorbar": {
             "outlinewidth": 0,
             "ticks": ""
            },
            "colorscale": [
             [
              0,
              "#0d0887"
             ],
             [
              0.1111111111111111,
              "#46039f"
             ],
             [
              0.2222222222222222,
              "#7201a8"
             ],
             [
              0.3333333333333333,
              "#9c179e"
             ],
             [
              0.4444444444444444,
              "#bd3786"
             ],
             [
              0.5555555555555556,
              "#d8576b"
             ],
             [
              0.6666666666666666,
              "#ed7953"
             ],
             [
              0.7777777777777778,
              "#fb9f3a"
             ],
             [
              0.8888888888888888,
              "#fdca26"
             ],
             [
              1,
              "#f0f921"
             ]
            ],
            "type": "histogram2dcontour"
           }
          ],
          "mesh3d": [
           {
            "colorbar": {
             "outlinewidth": 0,
             "ticks": ""
            },
            "type": "mesh3d"
           }
          ],
          "parcoords": [
           {
            "line": {
             "colorbar": {
              "outlinewidth": 0,
              "ticks": ""
             }
            },
            "type": "parcoords"
           }
          ],
          "pie": [
           {
            "automargin": true,
            "type": "pie"
           }
          ],
          "scatter": [
           {
            "fillpattern": {
             "fillmode": "overlay",
             "size": 10,
             "solidity": 0.2
            },
            "type": "scatter"
           }
          ],
          "scatter3d": [
           {
            "line": {
             "colorbar": {
              "outlinewidth": 0,
              "ticks": ""
             }
            },
            "marker": {
             "colorbar": {
              "outlinewidth": 0,
              "ticks": ""
             }
            },
            "type": "scatter3d"
           }
          ],
          "scattercarpet": [
           {
            "marker": {
             "colorbar": {
              "outlinewidth": 0,
              "ticks": ""
             }
            },
            "type": "scattercarpet"
           }
          ],
          "scattergeo": [
           {
            "marker": {
             "colorbar": {
              "outlinewidth": 0,
              "ticks": ""
             }
            },
            "type": "scattergeo"
           }
          ],
          "scattergl": [
           {
            "marker": {
             "colorbar": {
              "outlinewidth": 0,
              "ticks": ""
             }
            },
            "type": "scattergl"
           }
          ],
          "scattermap": [
           {
            "marker": {
             "colorbar": {
              "outlinewidth": 0,
              "ticks": ""
             }
            },
            "type": "scattermap"
           }
          ],
          "scattermapbox": [
           {
            "marker": {
             "colorbar": {
              "outlinewidth": 0,
              "ticks": ""
             }
            },
            "type": "scattermapbox"
           }
          ],
          "scatterpolar": [
           {
            "marker": {
             "colorbar": {
              "outlinewidth": 0,
              "ticks": ""
             }
            },
            "type": "scatterpolar"
           }
          ],
          "scatterpolargl": [
           {
            "marker": {
             "colorbar": {
              "outlinewidth": 0,
              "ticks": ""
             }
            },
            "type": "scatterpolargl"
           }
          ],
          "scatterternary": [
           {
            "marker": {
             "colorbar": {
              "outlinewidth": 0,
              "ticks": ""
             }
            },
            "type": "scatterternary"
           }
          ],
          "surface": [
           {
            "colorbar": {
             "outlinewidth": 0,
             "ticks": ""
            },
            "colorscale": [
             [
              0,
              "#0d0887"
             ],
             [
              0.1111111111111111,
              "#46039f"
             ],
             [
              0.2222222222222222,
              "#7201a8"
             ],
             [
              0.3333333333333333,
              "#9c179e"
             ],
             [
              0.4444444444444444,
              "#bd3786"
             ],
             [
              0.5555555555555556,
              "#d8576b"
             ],
             [
              0.6666666666666666,
              "#ed7953"
             ],
             [
              0.7777777777777778,
              "#fb9f3a"
             ],
             [
              0.8888888888888888,
              "#fdca26"
             ],
             [
              1,
              "#f0f921"
             ]
            ],
            "type": "surface"
           }
          ],
          "table": [
           {
            "cells": {
             "fill": {
              "color": "#EBF0F8"
             },
             "line": {
              "color": "white"
             }
            },
            "header": {
             "fill": {
              "color": "#C8D4E3"
             },
             "line": {
              "color": "white"
             }
            },
            "type": "table"
           }
          ]
         },
         "layout": {
          "annotationdefaults": {
           "arrowcolor": "#2a3f5f",
           "arrowhead": 0,
           "arrowwidth": 1
          },
          "autotypenumbers": "strict",
          "coloraxis": {
           "colorbar": {
            "outlinewidth": 0,
            "ticks": ""
           }
          },
          "colorscale": {
           "diverging": [
            [
             0,
             "#8e0152"
            ],
            [
             0.1,
             "#c51b7d"
            ],
            [
             0.2,
             "#de77ae"
            ],
            [
             0.3,
             "#f1b6da"
            ],
            [
             0.4,
             "#fde0ef"
            ],
            [
             0.5,
             "#f7f7f7"
            ],
            [
             0.6,
             "#e6f5d0"
            ],
            [
             0.7,
             "#b8e186"
            ],
            [
             0.8,
             "#7fbc41"
            ],
            [
             0.9,
             "#4d9221"
            ],
            [
             1,
             "#276419"
            ]
           ],
           "sequential": [
            [
             0,
             "#0d0887"
            ],
            [
             0.1111111111111111,
             "#46039f"
            ],
            [
             0.2222222222222222,
             "#7201a8"
            ],
            [
             0.3333333333333333,
             "#9c179e"
            ],
            [
             0.4444444444444444,
             "#bd3786"
            ],
            [
             0.5555555555555556,
             "#d8576b"
            ],
            [
             0.6666666666666666,
             "#ed7953"
            ],
            [
             0.7777777777777778,
             "#fb9f3a"
            ],
            [
             0.8888888888888888,
             "#fdca26"
            ],
            [
             1,
             "#f0f921"
            ]
           ],
           "sequentialminus": [
            [
             0,
             "#0d0887"
            ],
            [
             0.1111111111111111,
             "#46039f"
            ],
            [
             0.2222222222222222,
             "#7201a8"
            ],
            [
             0.3333333333333333,
             "#9c179e"
            ],
            [
             0.4444444444444444,
             "#bd3786"
            ],
            [
             0.5555555555555556,
             "#d8576b"
            ],
            [
             0.6666666666666666,
             "#ed7953"
            ],
            [
             0.7777777777777778,
             "#fb9f3a"
            ],
            [
             0.8888888888888888,
             "#fdca26"
            ],
            [
             1,
             "#f0f921"
            ]
           ]
          },
          "colorway": [
           "#636efa",
           "#EF553B",
           "#00cc96",
           "#ab63fa",
           "#FFA15A",
           "#19d3f3",
           "#FF6692",
           "#B6E880",
           "#FF97FF",
           "#FECB52"
          ],
          "font": {
           "color": "#2a3f5f"
          },
          "geo": {
           "bgcolor": "white",
           "lakecolor": "white",
           "landcolor": "#E5ECF6",
           "showlakes": true,
           "showland": true,
           "subunitcolor": "white"
          },
          "hoverlabel": {
           "align": "left"
          },
          "hovermode": "closest",
          "mapbox": {
           "style": "light"
          },
          "paper_bgcolor": "white",
          "plot_bgcolor": "#E5ECF6",
          "polar": {
           "angularaxis": {
            "gridcolor": "white",
            "linecolor": "white",
            "ticks": ""
           },
           "bgcolor": "#E5ECF6",
           "radialaxis": {
            "gridcolor": "white",
            "linecolor": "white",
            "ticks": ""
           }
          },
          "scene": {
           "xaxis": {
            "backgroundcolor": "#E5ECF6",
            "gridcolor": "white",
            "gridwidth": 2,
            "linecolor": "white",
            "showbackground": true,
            "ticks": "",
            "zerolinecolor": "white"
           },
           "yaxis": {
            "backgroundcolor": "#E5ECF6",
            "gridcolor": "white",
            "gridwidth": 2,
            "linecolor": "white",
            "showbackground": true,
            "ticks": "",
            "zerolinecolor": "white"
           },
           "zaxis": {
            "backgroundcolor": "#E5ECF6",
            "gridcolor": "white",
            "gridwidth": 2,
            "linecolor": "white",
            "showbackground": true,
            "ticks": "",
            "zerolinecolor": "white"
           }
          },
          "shapedefaults": {
           "line": {
            "color": "#2a3f5f"
           }
          },
          "ternary": {
           "aaxis": {
            "gridcolor": "white",
            "linecolor": "white",
            "ticks": ""
           },
           "baxis": {
            "gridcolor": "white",
            "linecolor": "white",
            "ticks": ""
           },
           "bgcolor": "#E5ECF6",
           "caxis": {
            "gridcolor": "white",
            "linecolor": "white",
            "ticks": ""
           }
          },
          "title": {
           "x": 0.05
          },
          "xaxis": {
           "automargin": true,
           "gridcolor": "white",
           "linecolor": "white",
           "ticks": "",
           "title": {
            "standoff": 15
           },
           "zerolinecolor": "white",
           "zerolinewidth": 2
          },
          "yaxis": {
           "automargin": true,
           "gridcolor": "white",
           "linecolor": "white",
           "ticks": "",
           "title": {
            "standoff": 15
           },
           "zerolinecolor": "white",
           "zerolinewidth": 2
          }
         }
        },
        "title": {
         "text": "Is FED better at controlling <b>inflation</b> or <b>unemployment?</b>"
        },
        "width": 800,
        "xaxis": {
         "anchor": "y",
         "domain": [
          0,
          0.45
         ]
        },
        "xaxis2": {
         "anchor": "y2",
         "domain": [
          0.55,
          1
         ]
        },
        "yaxis": {
         "anchor": "x",
         "domain": [
          0,
          1
         ]
        },
        "yaxis2": {
         "anchor": "x2",
         "domain": [
          0,
          1
         ]
        }
       }
      }
     },
     "metadata": {},
     "output_type": "display_data"
    }
   ],
   "source": [
    "fig = make_subplots(rows=1,\n",
    "                    cols = 2,\n",
    "                    subplot_titles=[\"Yearly CPI Change\", \"Unemployment Rate\"])\n",
    "\n",
    "# --------------------------\n",
    "# Yearly CPI boxplot\n",
    "fig.add_trace(\n",
    "    go.Box(y=df_filtered['yearly_cpi_changes'],\n",
    "           name='Inflation Rate', \n",
    "           marker_color='grey',\n",
    "           boxmean=True),\n",
    "    row=1, col=1\n",
    ")\n",
    "\n",
    "fig.add_hline(y=2, line_dash='dash', line_color='red', row=1, col=1)\n",
    "\n",
    "fig.add_annotation(\n",
    "    x=0.5, y=2,\n",
    "    xref='x domain', yref='y',\n",
    "    text=\"Target Inflation Rate: 2%\",\n",
    "    showarrow=True,\n",
    "    arrowhead=2,\n",
    "    ax=80, ay=-40,\n",
    "    row=1, col=1\n",
    ")\n",
    "\n",
    "fig.add_annotation(\n",
    "    x=0.5, y=2.47,\n",
    "    xref='x domain', yref='y',\n",
    "    text=\"Mean Inflation Rate: 2.47%\",\n",
    "    showarrow=True,\n",
    "    arrowhead=2,\n",
    "    ax=-80, ay=-40,\n",
    "    row=1, col=1\n",
    ")\n",
    "\n",
    "# --------------------------\n",
    "# Unemployment boxplot\n",
    "\n",
    "fig.add_trace(\n",
    "    go.Box(y=df_filtered['unemply_rate'],\n",
    "           name='Unemployment Rate',\n",
    "           marker_color='grey',\n",
    "           boxmean=True),\n",
    "    row=1, col=2\n",
    ")\n",
    "\n",
    "fig.add_shape(\n",
    "    type='rect',\n",
    "    x0=-0.5, x1=0.5,\n",
    "    y0=3, y1=5,\n",
    "    line=dict(color='red', dash='dash'),\n",
    "    fillcolor='red',\n",
    "    opacity=0.2,\n",
    "    row=1, col=2\n",
    ")\n",
    "\n",
    "fig.add_annotation(\n",
    "    x=0.9, y=4,\n",
    "    xref='x domain', yref='y',\n",
    "    text=\"Unemployment Target range: 3-5%\",\n",
    "    showarrow=True,\n",
    "    arrowhead=2,\n",
    "    ax=100, ay=-40,\n",
    "    row=1, col=2\n",
    ")\n",
    "\n",
    "fig.update_layout(width=800, height=500,\n",
    "                  title_text=\"Is FED better at controlling <b>inflation</b> or <b>unemployment?</b>\")\n",
    "\n",
    "fig.add_annotation(\n",
    "    x=0.5, y=-0.1,\n",
    "    text='FED controls <b>inflation rate</b> (0.47% from target) better than <b>unemployment rate</b> (0.63% from target range).',\n",
    "    xref='paper',\n",
    "    yref='paper',\n",
    "    showarrow=False,\n",
    "    xanchor='center',\n",
    "    yanchor='top',\n",
    "    font=dict(size=12, color='black')\n",
    ")\n",
    "\n",
    "fig.add_annotation(\n",
    "    x=0.5, y=5.63,\n",
    "    xref='x domain', yref='y',\n",
    "    text=\"Mean Unemployment Rate: 5.63%\",\n",
    "    showarrow=True,\n",
    "    arrowhead=2,\n",
    "    ax=100, ay=-40,\n",
    "    row=1, col=2\n",
    ")\n",
    "\n",
    "fig.show()"
   ]
  },
  {
   "cell_type": "code",
   "execution_count": 21,
   "id": "3ec7d04d",
   "metadata": {},
   "outputs": [
    {
     "data": {
      "image/png": "[encoded data removed]",
      "text/plain": [
       "<IPython.core.display.Image object>"
      ]
     },
     "execution_count": 21,
     "metadata": {},
     "output_type": "execute_result"
    }
   ],
   "source": [
    "Image(\"fig4.png\")"
   ]
  },
  {
   "cell_type": "markdown",
   "id": "ec986f22",
   "metadata": {},
   "source": [
    "Figure 5: Average rate distribution between inflation rate and unemployment rate. The average inflation and unemployment rate shows that FED has better control over inflation than unemployment rate. The former is close to the target rate."
   ]
  },
  {
   "cell_type": "markdown",
   "id": "d613c301",
   "metadata": {},
   "source": [
    "### Summary:\n",
    "\n",
    "Over the past 25 years, two significant economic crises occurred: in 2008 and 2020, marked by a global recession and a global pandemic, respectively. During the 2008 recession, the FED focused on controlling the rapid rise in the unemployment rate by lowering interest rates to historically low levels. Inflation soon fell as high unemployment hindered economic growth. It took almost eight years for the unemployment rate to drop below 5%, reaching that level in 2016.\n",
    "\n",
    "During the COVID-19 pandemic, unemployment surged to a historical high, and the FED implemented similar measures to stabilize the economy by lowering interest rates. However, this action eventually contributed to an inflation surge in 2023, prompting the FED to raise rates to control inflation.\n",
    "\n",
    "Based on these historical events, the FED appears to have more control over inflation than unemployment, as shown in Figures 5, where inflation more consistently revolves around the target rate compared to unemployment. Additionally, the FED seems to respond more sensitively to rises in unemployment, as shown in Figure 2. Their strategy of increasing interest rates when inflation is high and decreasing rates when unemployment is high appears to be more effective in controlling inflation. Unemployment, however, is a more complex system that does not respond solely to interest rate adjustments.\n",
    "\n",
    "Overall, the FED has been relatively successful in achieving its goals of bringing inflation and unemployment closer to their target levels."
   ]
  }
 ],
 "metadata": {
  "kernelspec": {
   "display_name": "Python 3.11 (.venv)",
   "language": "python",
   "name": ".venv"
  },
  "language_info": {
   "codemirror_mode": {
    "name": "ipython",
    "version": 3
   },
   "file_extension": ".py",
   "mimetype": "text/x-python",
   "name": "python",
   "nbconvert_exporter": "python",
   "pygments_lexer": "ipython3",
   "version": "3.11.9"
  }
 },
 "nbformat": 4,
 "nbformat_minor": 5
}
